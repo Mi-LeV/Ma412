{
 "cells": [
  {
   "attachments": {},
   "cell_type": "markdown",
   "id": "2f35af2d",
   "metadata": {},
   "source": [
    "# Ma412 - 2023/2024\n",
    "\n",
    "# Lab 3: Logistic Regression "
   ]
  },
  {
   "attachments": {},
   "cell_type": "markdown",
   "id": "af8380b0",
   "metadata": {},
   "source": [
    "The objective of this lab session is to code the logistic regression."
   ]
  },
  {
   "attachments": {},
   "cell_type": "markdown",
   "id": "1b645801",
   "metadata": {},
   "source": [
    "## <font color='black'>Set-Up</font>\n",
    "First we will import the packages that we will need throughout the noteboo"
   ]
  },
  {
   "cell_type": "code",
   "execution_count": 106,
   "id": "990135d4",
   "metadata": {},
   "outputs": [],
   "source": [
    "# Display plots in this notebook.\n",
    "%matplotlib inline\n",
    "\n",
    "# Import the numpy package with the alias np.\n",
    "import numpy as np           \n",
    "\n",
    "# Optimization module in scipy\n",
    "from scipy import optimize\n",
    "\n",
    "# library written for this exercise \n",
    "import utils\n",
    "\n",
    "import matplotlib.pyplot as plt  \n",
    "import matplotlib.cm as cm\n",
    "plt.rcParams['figure.figsize'] = (4, 4)\n",
    "import os"
   ]
  },
  {
   "attachments": {},
   "cell_type": "markdown",
   "id": "9cf5faae",
   "metadata": {},
   "source": [
    "## 1. Logistic regression"
   ]
  },
  {
   "attachments": {},
   "cell_type": "markdown",
   "id": "3398024c",
   "metadata": {},
   "source": [
    "In this exercise, you will build a logistic regression model to evaluate the current state of an aircraft component based on the available system data (e.g., flight and maintenance data) and to estimate the future performance and the remaining useful life of the components. \n",
    "\n",
    "From the classification results a degradation index is created to serve as an aid to better plan the aircraft maintenance. Data and maintenance logs were used to generate the training dataset that you can use as a training set for logistic regression. \n",
    "\n",
    "For each training example, you have the maintenance score and the number of valve replacements.\n",
    "\n",
    "Your task is to build a classification model that estimates the degradation index based these two values."
   ]
  },
  {
   "cell_type": "code",
   "execution_count": 107,
   "id": "ec8e55c8",
   "metadata": {},
   "outputs": [],
   "source": [
    "# Load the data\n",
    "data = np.loadtxt(os.path.join('data', 'ex2data1.txt'), delimiter=',')\n",
    "X, y = data[:, 0:2], data[:, 2]"
   ]
  },
  {
   "attachments": {},
   "cell_type": "markdown",
   "id": "455cf732",
   "metadata": {},
   "source": [
    "In order to help you get familiar with the data you will start by plotting them."
   ]
  },
  {
   "cell_type": "code",
   "execution_count": 108,
   "id": "b4b8e441",
   "metadata": {},
   "outputs": [
    {
     "data": {
      "image/png": "[encoded data removed]",
      "text/plain": [
       "<Figure size 400x400 with 1 Axes>"
      ]
     },
     "metadata": {},
     "output_type": "display_data"
    }
   ],
   "source": [
    "# EDIT THIS CELL\n",
    "def plotData(X, y):\n",
    "    plt.scatter(X[:,0],y)\n",
    "    plt.scatter(X[:,1],y)\n",
    "    plt.show()\n",
    "plotData(X,y)"
   ]
  },
  {
   "attachments": {},
   "cell_type": "markdown",
   "id": "c4d21cd3",
   "metadata": {},
   "source": [
    "The sigmoid function can take values in the range [0,1]. So large positive values of X will lead to the sigmoid close to 1, while for large negative values, the sigmoid should be close to 0. The sigmoid function is defined as:\n",
    "\n",
    "$$\n",
    "g(z) = \\cfrac{1}{1 + e^{-z}}\n",
    "$$\n",
    "\n",
    "Implement this function in the cell below so it can be called by the rest of the exercise."
   ]
  },
  {
   "cell_type": "code",
   "execution_count": 109,
   "id": "fa73e65e",
   "metadata": {},
   "outputs": [],
   "source": [
    "# EDIT THIS CELL\n",
    "def sigmoid(z):\n",
    "    return 1/(1+np.exp(-z))"
   ]
  },
  {
   "attachments": {},
   "cell_type": "markdown",
   "id": "8019b0a6",
   "metadata": {},
   "source": [
    "The following cell evaluates the sigmoid function at `z=0`. You should get a value of 0.5. You can also try different values for `z` to experiment with the sigmoid function."
   ]
  },
  {
   "cell_type": "code",
   "execution_count": 110,
   "id": "f285c293",
   "metadata": {},
   "outputs": [
    {
     "name": "stdout",
     "output_type": "stream",
     "text": [
      "0.5\n",
      "0.7310585786300049\n",
      "0.0\n",
      "1.0\n"
     ]
    },
    {
     "name": "stderr",
     "output_type": "stream",
     "text": [
      "C:\\Users\\CE PC\\AppData\\Local\\Temp\\ipykernel_10848\\557084228.py:3: RuntimeWarning: overflow encountered in exp\n",
      "  return 1/(1+np.exp(-z))\n"
     ]
    }
   ],
   "source": [
    "print(sigmoid(0))\n",
    "print(sigmoid(1))\n",
    "print(sigmoid(-99999999))\n",
    "print(sigmoid(99999999))"
   ]
  },
  {
   "attachments": {},
   "cell_type": "markdown",
   "id": "636c489e",
   "metadata": {},
   "source": [
    "### Cost function and gradient"
   ]
  },
  {
   "cell_type": "code",
   "execution_count": 111,
   "id": "27fe5ad0",
   "metadata": {},
   "outputs": [
    {
     "name": "stdout",
     "output_type": "stream",
     "text": [
      "100 2\n"
     ]
    }
   ],
   "source": [
    "# Setup the data matrix appropriately, and add ones for the intercept term\n",
    "m, n = X.shape\n",
    "print(m,n)\n",
    "# Add intercept term to X\n",
    "X = np.concatenate([np.ones((m, 1)), X], axis=1)"
   ]
  },
  {
   "attachments": {},
   "cell_type": "markdown",
   "id": "03a8558f",
   "metadata": {},
   "source": [
    "In this part, you will implement the cost function and gradient for logistic regression. Complete the code below to return the cost and gradient.\n",
    "Recall that the cost function in logistic regression is:\n",
    "$$\n",
    "J(\\theta) = \\cfrac{1}{m}\\sum_{i = 1}^m [ - y ^{(i)} \\log (h_{\\theta}(x^{(i)})) - (1 - y ^{(i)}) \\log (1 - h_{\\theta}(x^{(i)})) ]\n",
    "$$\n",
    "and the gradient is:\n",
    "\n",
    "$$\n",
    "\\cfrac{\\partial J(\\theta)}{\\partial\\theta_j}  = \\cfrac{1}{m}\\sum_{i = 1}^m (h_{\\theta}(x^{(i)}) -  y ^{(i)}) x^{(i)}\n",
    "$$\n",
    "\n",
    "Note that while this gradient looks identical to the linear regression gradient, the formula is actually different because linear and logistic regression have different definitions of $h_\\theta(x)$."
   ]
  },
  {
   "cell_type": "code",
   "execution_count": 112,
   "id": "ca6f762d",
   "metadata": {},
   "outputs": [],
   "source": [
    "# EDIT THIS CELL\n",
    "def costFunction(theta, X, y):\n",
    "    s = 0\n",
    "    s_g = 0\n",
    "    for i in range(m):\n",
    "        h_tet = sigmoid(theta @ X[i])\n",
    "        s += -y[i]*np.log(h_tet) -  (1 - y[i]) * np.log(1-h_tet)\n",
    "        s_g += (h_tet - y[i]) * X[i]\n",
    "    return s / m, s_g / m\n",
    "\n",
    "initial_theta = np.zeros(n+1)\n",
    "cost, grad = costFunction(initial_theta, X, y)"
   ]
  },
  {
   "attachments": {},
   "cell_type": "markdown",
   "id": "ab2f2d34",
   "metadata": {},
   "source": [
    "Once you are done call your `costFunction` using two test cases for  $\\theta$ by executing the next cell."
   ]
  },
  {
   "cell_type": "code",
   "execution_count": 113,
   "id": "81c68517",
   "metadata": {},
   "outputs": [
    {
     "name": "stdout",
     "output_type": "stream",
     "text": [
      "Cost at initial theta (zeros): 0.693\n",
      "Expected cost (approx): 0.693\n",
      "\n",
      "Gradient at initial theta (zeros):\n",
      "\t[-0.1000, -12.0092, -11.2628]\n",
      "Expected gradients (approx):\n",
      "\t[-0.1000, -12.0092, -11.2628]\n",
      "\n",
      "Cost at test theta: 0.218\n",
      "Expected cost (approx): 0.218\n",
      "\n",
      "Gradient at test theta:\n",
      "\t[0.043, 2.566, 2.647]\n",
      "Expected gradients (approx):\n",
      "\t[0.043, 2.566, 2.647]\n"
     ]
    }
   ],
   "source": [
    "# Initialize fitting parameters\n",
    "initial_theta = np.zeros(n+1)\n",
    "cost, grad = costFunction(initial_theta, X, y)\n",
    "\n",
    "print('Cost at initial theta (zeros): {:.3f}'.format(cost))\n",
    "print('Expected cost (approx): 0.693\\n')\n",
    "\n",
    "print('Gradient at initial theta (zeros):')\n",
    "print('\\t[{:.4f}, {:.4f}, {:.4f}]'.format(*grad))\n",
    "print('Expected gradients (approx):\\n\\t[-0.1000, -12.0092, -11.2628]\\n')\n",
    "\n",
    "test_theta = np.array([-24, 0.2, 0.2])\n",
    "cost, grad = costFunction(test_theta, X, y)\n",
    "\n",
    "print('Cost at test theta: {:.3f}'.format(cost))\n",
    "print('Expected cost (approx): 0.218\\n')\n",
    "\n",
    "print('Gradient at test theta:')\n",
    "print('\\t[{:.3f}, {:.3f}, {:.3f}]'.format(*grad))\n",
    "print('Expected gradients (approx):\\n\\t[0.043, 2.566, 2.647]')"
   ]
  },
  {
   "attachments": {},
   "cell_type": "markdown",
   "id": "60a87ebb",
   "metadata": {},
   "source": [
    "### Learning parameters easily using `scipy.optimize`\n",
    "\n",
    "Up until now, you found the optimal parameters of a linear and logistic regression by implementing gradient descent. \n",
    "\n",
    "You wrote a cost function and calculated its gradient, then took a gradient descent step accordingly. \n",
    "\n",
    "This time, instead of taking gradient descent steps, you will use the [`scipy.optimize` module](https://docs.scipy.org/doc/scipy/reference/optimize.html). SciPy is a `python` library for numerical computing. It provides an optimization module for minimization. The function `scipy.optimize.minimize` is the method to use for optimization problems(both constrained and unconstrained).\n",
    "\n",
    "If you have completed the `costFunction` correctly, `optimize.minimize` will converge on the right optimization parameters and return the final values of the cost and $\\theta$. Notice you only needed to provide a function calculating the cost and the gradient.\n",
    "\n",
    "In the following, you can learn how to call the `optimize.minimize` method with the correct arguments."
   ]
  },
  {
   "cell_type": "code",
   "execution_count": 114,
   "id": "b58d171b",
   "metadata": {},
   "outputs": [
    {
     "name": "stderr",
     "output_type": "stream",
     "text": [
      "C:\\Users\\CE PC\\AppData\\Local\\Temp\\ipykernel_10848\\2860753830.py:4: OptimizeWarning: Unknown solver options: maxiter\n",
      "  res = optimize.minimize(costFunction,initial_theta,(X, y),jac=True,method='TNC',options=options)\n"
     ]
    },
    {
     "name": "stdout",
     "output_type": "stream",
     "text": [
      "Cost at theta found by optimize.minimize: 0.203\n",
      "Expected cost (approx): 0.203\n",
      "\n",
      "theta:\n",
      "\t[-25.161, 0.206, 0.201]\n",
      "Expected theta (approx):\n",
      "\t[-25.161, 0.206, 0.201]\n"
     ]
    },
    {
     "ename": "TypeError",
     "evalue": "sigmoid() takes 1 positional argument but 2 were given",
     "output_type": "error",
     "traceback": [
      "\u001b[1;31m---------------------------------------------------------------------------\u001b[0m",
      "\u001b[1;31mTypeError\u001b[0m                                 Traceback (most recent call last)",
      "\u001b[1;32mc:\\Users\\CE PC\\Documents\\Python\\Ma412\\Lab_3\\Ma412_Lab3.ipynb Cell 21\u001b[0m in \u001b[0;36m2\n\u001b[0;32m     <a href='vscode-notebook-cell:/c%3A/Users/CE%20PC/Documents/Python/Ma412/Lab_3/Ma412_Lab3.ipynb#X26sZmlsZQ%3D%3D?line=17'>18</a>\u001b[0m \u001b[39mprint\u001b[39m(\u001b[39m'\u001b[39m\u001b[39m\\t\u001b[39;00m\u001b[39m[\u001b[39m\u001b[39m{:.3f}\u001b[39;00m\u001b[39m, \u001b[39m\u001b[39m{:.3f}\u001b[39;00m\u001b[39m, \u001b[39m\u001b[39m{:.3f}\u001b[39;00m\u001b[39m]\u001b[39m\u001b[39m'\u001b[39m\u001b[39m.\u001b[39mformat(\u001b[39m*\u001b[39mtheta))\n\u001b[0;32m     <a href='vscode-notebook-cell:/c%3A/Users/CE%20PC/Documents/Python/Ma412/Lab_3/Ma412_Lab3.ipynb#X26sZmlsZQ%3D%3D?line=18'>19</a>\u001b[0m \u001b[39mprint\u001b[39m(\u001b[39m'\u001b[39m\u001b[39mExpected theta (approx):\u001b[39m\u001b[39m\\n\u001b[39;00m\u001b[39m\\t\u001b[39;00m\u001b[39m[-25.161, 0.206, 0.201]\u001b[39m\u001b[39m'\u001b[39m)\n\u001b[1;32m---> <a href='vscode-notebook-cell:/c%3A/Users/CE%20PC/Documents/Python/Ma412/Lab_3/Ma412_Lab3.ipynb#X26sZmlsZQ%3D%3D?line=20'>21</a>\u001b[0m utils\u001b[39m.\u001b[39mplotDecisionBoundary(sigmoid,theta,X,y)\n",
      "File \u001b[1;32mc:\\Users\\CE PC\\Documents\\Python\\Ma412\\Lab_3\\utils.py:72\u001b[0m, in \u001b[0;36mplotDecisionBoundary\u001b[1;34m(plotData, theta, X, y)\u001b[0m\n\u001b[0;32m     69\u001b[0m theta \u001b[39m=\u001b[39m np\u001b[39m.\u001b[39marray(theta)\n\u001b[0;32m     71\u001b[0m \u001b[39m# Plot Data (remember first column in X is the intercept)\u001b[39;00m\n\u001b[1;32m---> 72\u001b[0m plotData(X[:, \u001b[39m1\u001b[39;49m:\u001b[39m3\u001b[39;49m], y)\n\u001b[0;32m     74\u001b[0m \u001b[39mif\u001b[39;00m X\u001b[39m.\u001b[39mshape[\u001b[39m1\u001b[39m] \u001b[39m<\u001b[39m\u001b[39m=\u001b[39m \u001b[39m3\u001b[39m:\n\u001b[0;32m     75\u001b[0m     \u001b[39m# Only need 2 points to define a line, so choose two endpoints\u001b[39;00m\n\u001b[0;32m     76\u001b[0m     plot_x \u001b[39m=\u001b[39m np\u001b[39m.\u001b[39marray([np\u001b[39m.\u001b[39mmin(X[:, \u001b[39m1\u001b[39m]) \u001b[39m-\u001b[39m \u001b[39m2\u001b[39m, np\u001b[39m.\u001b[39mmax(X[:, \u001b[39m1\u001b[39m]) \u001b[39m+\u001b[39m \u001b[39m2\u001b[39m])\n",
      "\u001b[1;31mTypeError\u001b[0m: sigmoid() takes 1 positional argument but 2 were given"
     ]
    }
   ],
   "source": [
    "# set options for optimize.minimize\n",
    "options= {'maxiter': 400}\n",
    "\n",
    "res = optimize.minimize(costFunction,initial_theta,(X, y),jac=True,method='TNC',options=options)\n",
    "\n",
    "# the fun property of `OptimizeResult` object returns\n",
    "# the value of costFunction at optimized theta\n",
    "cost = res.fun\n",
    "\n",
    "# the optimized theta is in the x property\n",
    "theta = res.x\n",
    "\n",
    "# Print theta to screen\n",
    "print('Cost at theta found by optimize.minimize: {:.3f}'.format(cost))\n",
    "print('Expected cost (approx): 0.203\\n');\n",
    "\n",
    "print('theta:')\n",
    "print('\\t[{:.3f}, {:.3f}, {:.3f}]'.format(*theta))\n",
    "print('Expected theta (approx):\\n\\t[-25.161, 0.206, 0.201]')\n",
    "\n",
    "utils.plotDecisionBoundary(sigmoid,theta,X,y)\n"
   ]
  },
  {
   "attachments": {},
   "cell_type": "markdown",
   "id": "69d8c4e9",
   "metadata": {},
   "source": [
    "Once `optimize.minimize` completes, we want to use the final value for $\\theta$ to visualize the decision boundary on the training data\n",
    "To do so, call `plotDecisionBoundary` for plotting the decision boundary on top of training data. "
   ]
  },
  {
   "attachments": {},
   "cell_type": "markdown",
   "id": "4bf8ffdd",
   "metadata": {},
   "source": [
    "### Evaluate your model\n",
    "\n",
    "After learning the parameters, you can use the model to predict whether a particular component is healthy or needs to be replaced.In this part, your task is to complete the code in function `predict`. The predict function will produce “1” or “0” predictions given a dataset and a learned parameter vector $\\theta$. "
   ]
  },
  {
   "cell_type": "code",
   "execution_count": 115,
   "id": "f9af5cc2",
   "metadata": {},
   "outputs": [],
   "source": [
    "# EDIT THIS CELL\n",
    "def predict(theta, X):\n",
    "    s= X @ theta\n",
    "    return list(map(lambda x:True if x > 0.5 else False, s))\n",
    "p = predict(theta, X)"
   ]
  },
  {
   "attachments": {},
   "cell_type": "markdown",
   "id": "f5726faa",
   "metadata": {},
   "source": [
    "We now proceed to report the training accuracy of your classifier by computing the percentage of examples it got correct."
   ]
  },
  {
   "cell_type": "code",
   "execution_count": null,
   "id": "9481c371",
   "metadata": {},
   "outputs": [
    {
     "name": "stdout",
     "output_type": "stream",
     "text": [
      "For a component with maintenance scores of 45 and 85,we predict a degradation index of 0.776\n",
      "Expected value: 0.775 +/- 0.002\n",
      "\n",
      "Train Accuracy: 89.00 %\n",
      "Expected accuracy (approx): 89.00 %\n"
     ]
    }
   ],
   "source": [
    "#  Predict the degradation index for a component with score maintenace 45 \n",
    "#  and 85 valve replacements\n",
    "prob = sigmoid(np.dot([1, 45, 85], theta))\n",
    "print('For a component with maintenance scores of 45 and 85,'\n",
    "      'we predict a degradation index of {:.3f}'.format(prob))\n",
    "print('Expected value: 0.775 +/- 0.002\\n')\n",
    "\n",
    "# Compute accuracy on our training set\n",
    "p = predict(theta, X)\n",
    "print('Train Accuracy: {:.2f} %'.format(np.mean(p == y) * 100))\n",
    "print('Expected accuracy (approx): 89.00 %')"
   ]
  },
  {
   "attachments": {},
   "cell_type": "markdown",
   "id": "155b3a3a",
   "metadata": {},
   "source": [
    "## 2. Regularized logistic regression\n",
    "\n",
    "In this part of the exercise, you will implement regularized logistic regression (same principle as for linear regression).\n",
    "First, we load the data from a CSV file:"
   ]
  },
  {
   "cell_type": "code",
   "execution_count": null,
   "id": "934c45f7",
   "metadata": {},
   "outputs": [],
   "source": [
    "# Load Data\n",
    "# The first two columns contains the X values and the third column\n",
    "# contains the label (y).\n",
    "data = np.loadtxt(os.path.join('data', 'ex2data2.txt'), delimiter=',')\n",
    "X = data[:, :2]\n",
    "y = data[:, 2]"
   ]
  },
  {
   "attachments": {},
   "cell_type": "markdown",
   "id": "37c095d9",
   "metadata": {},
   "source": [
    "Visualize the data."
   ]
  },
  {
   "cell_type": "code",
   "execution_count": null,
   "id": "9d81e563",
   "metadata": {},
   "outputs": [
    {
     "data": {
      "image/png": "[encoded data removed]",
      "text/plain": [
       "<Figure size 400x400 with 1 Axes>"
      ]
     },
     "metadata": {},
     "output_type": "display_data"
    }
   ],
   "source": [
    "pos = np.where(y == 1)\n",
    "neg = np.where(y == 0)\n",
    "plt.scatter(X[pos, 0], X[pos, 1], marker='o', c='b')\n",
    "plt.scatter(X[neg, 0], X[neg, 1], marker='x', c='r')\n",
    "plt.xlabel('Maintenance score')\n",
    "plt.ylabel('Number of valve replacements')\n",
    "plt.show()"
   ]
  },
  {
   "attachments": {},
   "cell_type": "markdown",
   "id": "48ed8573",
   "metadata": {},
   "source": [
    "The above figure shows that the dataset cannot be separated into positive and negative examples by a straight-line. Therefore, a straight-forward application of logistic regression will not perform well on this dataset since logistic regression will only be able to find a linear decision boundary."
   ]
  },
  {
   "attachments": {},
   "cell_type": "markdown",
   "id": "c038f3ca",
   "metadata": {},
   "source": [
    "### Feature mapping\n",
    "\n",
    "One can create more features from each data point. The function `mapFeature` defined in the file `utils.py`, we will map the features into all polynomial terms of $x_1$ and $x_2$ up to the sixth power.\n",
    "\n",
    "$$ \\text{mapFeature}(x) = \\begin{bmatrix} 1 & x_1 & x_2 & x_1^2 & x_1 x_2 & x_2^2 & x_1^3 & \\dots & x_1 x_2^5 & x_2^6 \\end{bmatrix}^T $$\n",
    "\n",
    "As a result of this mapping, our vector of two features has been transformed into a \\bf{28-dimensional} vector. A logistic regression classifier trained on this higher-dimension feature vector will have a more complex decision boundary and will appear nonlinear when drawn in our 2-dimensional plot.\n",
    "\n",
    "\n",
    "While the feature mapping allows us to build a more expressive classifier, it also more susceptible to overfitting. In the next parts of the exercise, you will implement regularized logistic regression to fit the data and also see for yourself how regularization can help combat the overfitting problem."
   ]
  },
  {
   "cell_type": "code",
   "execution_count": null,
   "id": "1595995a",
   "metadata": {},
   "outputs": [
    {
     "name": "stdout",
     "output_type": "stream",
     "text": [
      "100 28\n"
     ]
    }
   ],
   "source": [
    "# The mapFeature also adds a column of ones for us, so the intercept term is handled\n",
    "X = utils.mapFeature(X[:, 0], X[:, 1])\n",
    "m, n = X.shape\n",
    "print(m,n)"
   ]
  },
  {
   "attachments": {},
   "cell_type": "markdown",
   "id": "207b706f",
   "metadata": {},
   "source": [
    "###  Cost function and gradient\n",
    "\n",
    "Now you will implement the code to compute the cost function and gradient for regularized logistic regression. Complete the code for the function `costFunctionReg` below to return the cost and gradient.\n",
    "\n",
    "Recall that the regularized cost function in logistic regression is\n",
    "\n",
    "$$ J(\\theta) = \\frac{1}{m} \\sum_{i=1}^m \\left[ -y^{(i)}\\log \\left( h_\\theta \\left(x^{(i)} \\right) \\right) - \\left( 1 - y^{(i)} \\right) \\log \\left( 1 - h_\\theta \\left( x^{(i)} \\right) \\right) \\right] + \\frac{\\lambda}{2m} \\sum_{j=1}^n \\theta_j^2 $$\n",
    "\n",
    "Note that you should not regularize the parameters $\\theta_0$. The gradient of the cost function is a vector where the $j^{th}$ element is defined as follows:\n",
    "\n",
    "$$ \\frac{\\partial J(\\theta)}{\\partial \\theta_0} = \\frac{1}{m} \\sum_{i=1}^m \\left( h_\\theta \\left(x^{(i)}\\right) - y^{(i)} \\right) x_j^{(i)} \\qquad \\text{for } j =0 $$\n",
    "\n",
    "$$ \\frac{\\partial J(\\theta)}{\\partial \\theta_j} = \\left( \\frac{1}{m} \\sum_{i=1}^m \\left( h_\\theta \\left(x^{(i)}\\right) - y^{(i)} \\right) x_j^{(i)} \\right) + \\frac{\\lambda}{m}\\theta_j \\qquad \\text{for } j \\ge 1 $$"
   ]
  },
  {
   "cell_type": "code",
   "execution_count": null,
   "id": "8517ac86",
   "metadata": {},
   "outputs": [],
   "source": [
    "# EDIT THIS CELL\n",
    "def costFunctionReg(theta, X, y, lambda_):\n",
    "    s = 0\n",
    "    s_g = np.zeros_like(theta)\n",
    "    for i in range(m):\n",
    "        h_tet = sigmoid(theta @ X[i])\n",
    "        s += -y[i]*np.log(h_tet) -  (1 - y[i]) * np.log(1-h_tet)\n",
    "\n",
    "        s_g += (h_tet - y[i]) * X[i]\n",
    "    s_g /= m\n",
    "    s_g[1:] += lambda_/m*theta[1:]\n",
    "            \n",
    "\n",
    "    return s / m + lambda_/(2*m)*np.sum(np.power(theta,2)), s_g\n",
    "\n",
    "initial_theta = np.zeros(X.shape[1])\n",
    "\n",
    "# Set regularization parameter lambda to 1\n",
    "# DO NOT use `lambda` as a variable name in python\n",
    "# because it is a python keyword\n",
    "lambda_ = 1\n",
    "\n",
    "# Compute and display initial cost and gradient for regularized logistic\n",
    "# regression\n",
    "cost, grad = costFunctionReg(initial_theta, X, y, lambda_)"
   ]
  },
  {
   "attachments": {},
   "cell_type": "markdown",
   "id": "9106c42a",
   "metadata": {},
   "source": [
    "Once you are done with the `costFunctionReg`, we call it below using the initial value of $\\theta$ (initialized to all zeros), and also another test case where $\\theta$ is all ones."
   ]
  },
  {
   "cell_type": "code",
   "execution_count": null,
   "id": "44916f2c",
   "metadata": {},
   "outputs": [
    {
     "name": "stdout",
     "output_type": "stream",
     "text": [
      "Cost at initial theta (zeros): 0.693\n",
      "Expected cost (approx)       : 0.693\n",
      "\n",
      "Gradient at initial theta (zeros) - first five values only:\n",
      "\t[[ -0.1        -12.00921659 -11.26284221]]\n",
      "Expected gradients (approx) - first five values only:\n",
      "\t[0.0085, 0.0188, 0.0001, 0.0503, 0.0115]\n",
      "\n",
      "------------------------------\n",
      "\n",
      "Cost at test theta    : nan\n",
      "Expected cost (approx): 3.16\n",
      "\n",
      "Gradient at initial theta (zeros) - first five values only:\n",
      "\t[0.4]\n",
      "Expected gradients (approx) - first five values only:\n",
      "\t[0.3460, 0.1614, 0.1948, 0.2269, 0.0922]\n"
     ]
    },
    {
     "name": "stderr",
     "output_type": "stream",
     "text": [
      "C:\\Users\\CE PC\\AppData\\Local\\Temp\\ipykernel_10848\\3616966960.py:7: RuntimeWarning: divide by zero encountered in log\n",
      "  s += -y[i]*np.log(h_tet) -  (1 - y[i]) * np.log(1-h_tet)\n",
      "C:\\Users\\CE PC\\AppData\\Local\\Temp\\ipykernel_10848\\3616966960.py:7: RuntimeWarning: invalid value encountered in scalar multiply\n",
      "  s += -y[i]*np.log(h_tet) -  (1 - y[i]) * np.log(1-h_tet)\n"
     ]
    }
   ],
   "source": [
    "# Initialize fitting parameters\n",
    "initial_theta = np.zeros(X.shape[1])\n",
    "\n",
    "# Set regularization parameter lambda to 1\n",
    "# DO NOT use `lambda` as a variable name in python\n",
    "# because it is a python keyword\n",
    "lambda_ = 1\n",
    "\n",
    "# Compute and display initial cost and gradient for regularized logistic\n",
    "# regression\n",
    "cost, grad = costFunctionReg(initial_theta, X, y, lambda_)\n",
    "\n",
    "print('Cost at initial theta (zeros): {:.3f}'.format(cost))\n",
    "print('Expected cost (approx)       : 0.693\\n')\n",
    "\n",
    "print('Gradient at initial theta (zeros) - first five values only:')\n",
    "print('\\t[{}]'.format(grad))\n",
    "print('Expected gradients (approx) - first five values only:')\n",
    "print('\\t[0.0085, 0.0188, 0.0001, 0.0503, 0.0115]\\n')\n",
    "\n",
    "\n",
    "# Compute and display cost and gradient\n",
    "# with all-ones theta and lambda = 10\n",
    "test_theta = np.ones(X.shape[1])\n",
    "cost, grad = costFunctionReg(test_theta, X, y, 10)\n",
    "\n",
    "print('------------------------------\\n')\n",
    "print('Cost at test theta    : {:.2f}'.format(cost))\n",
    "print('Expected cost (approx): 3.16\\n')\n",
    "\n",
    "print('Gradient at initial theta (zeros) - first five values only:')\n",
    "print('\\t[{}]'.format(*grad))\n",
    "print('Expected gradients (approx) - first five values only:')\n",
    "print('\\t[0.3460, 0.1614, 0.1948, 0.2269, 0.0922]')"
   ]
  },
  {
   "attachments": {},
   "cell_type": "markdown",
   "id": "5b319332",
   "metadata": {},
   "source": []
  },
  {
   "attachments": {},
   "cell_type": "markdown",
   "id": "314ce5d4",
   "metadata": {},
   "source": [
    "### Regularization\n",
    "\n",
    "To finish you will try out different regularization parameters for the dataset to visualize how regularization prevents overfitting.\n",
    "\n",
    "The objective is to observe the changes in the decision boundary as you change the value of $\\lambda$. With a small\n",
    "$\\lambda$, you will find that the classifier gets almost every training example correct, but draws a very complicated boundary, thus overfitting the data.\n",
    "\n",
    "With a larger $\\lambda$, you should see a plot that shows an simpler decision boundary which still distinguishes the positives and negatives fairly well. However, if $\\lambda$ is set to too high a value, you will not get a good fit and the decision boundary will not follow the data so well, thus underfitting the data."
   ]
  },
  {
   "cell_type": "code",
   "execution_count": 116,
   "id": "1f88e9cc",
   "metadata": {},
   "outputs": [
    {
     "name": "stderr",
     "output_type": "stream",
     "text": [
      "C:\\Users\\CE PC\\AppData\\Local\\Temp\\ipykernel_10848\\1367482762.py:10: OptimizeWarning: Unknown solver options: maxiter\n",
      "  res = optimize.minimize(costFunctionReg, initial_theta,(X, y, lambda_),jac=True,method='TNC', options=options)\n"
     ]
    },
    {
     "data": {
      "image/png": "[encoded data removed]",
      "text/plain": [
       "<Figure size 400x400 with 1 Axes>"
      ]
     },
     "metadata": {},
     "output_type": "display_data"
    },
    {
     "name": "stdout",
     "output_type": "stream",
     "text": [
      "Train Accuracy: 80.0 %\n",
      "Expected accuracy (with lambda = 1): 75.4 % (approx)\n",
      "\n"
     ]
    },
    {
     "data": {
      "image/png": "[encoded data removed]",
      "text/plain": [
       "<Figure size 400x400 with 1 Axes>"
      ]
     },
     "metadata": {},
     "output_type": "display_data"
    }
   ],
   "source": [
    "# Initialize fitting parameters\n",
    "initial_theta = np.zeros(X.shape[1])\n",
    "\n",
    "# Set regularization parameter lambda to 1 (you should vary this)\n",
    "lambda_ = 1\n",
    "\n",
    "# set options for optimize.minimize\n",
    "options= {'maxiter': 100}\n",
    "\n",
    "res = optimize.minimize(costFunctionReg, initial_theta,(X, y, lambda_),jac=True,method='TNC', options=options)\n",
    "\n",
    "# the fun attribute of OptimizeResult object returns the value of costFunction at optimized theta\n",
    "cost = res.fun\n",
    "\n",
    "# the optimized theta is in the x attribute of the result\n",
    "theta = res.x\n",
    "\n",
    "utils.plotDecisionBoundary(plotData, theta, X, y)\n",
    "plt.xlabel('Test 1')\n",
    "plt.ylabel('Test 2')\n",
    "plt.legend(['y = 1', 'y = 0'])\n",
    "plt.grid(False)\n",
    "plt.title('lambda = %0.2f' % lambda_)\n",
    "\n",
    "# Compute accuracy on our training set\n",
    "p = predict(theta, X)\n",
    "\n",
    "print('Train Accuracy: %.1f %%' % (np.mean(p == y) * 100))\n",
    "print('Expected accuracy (with lambda = 1): 75.4 % (approx)\\n')"
   ]
  },
  {
   "attachments": {},
   "cell_type": "markdown",
   "id": "9206bb76",
   "metadata": {},
   "source": [
    "Conclude. \n",
    "\n",
    "This method does in fact perform well in conditions where the regular logistic regression would have not been appropriate."
   ]
  }
 ],
 "metadata": {
  "kernelspec": {
   "display_name": "Python 3 (ipykernel)",
   "language": "python",
   "name": "python3"
  },
  "language_info": {
   "codemirror_mode": {
    "name": "ipython",
    "version": 3
   },
   "file_extension": ".py",
   "mimetype": "text/x-python",
   "name": "python",
   "nbconvert_exporter": "python",
   "pygments_lexer": "ipython3",
   "version": "3.10.0"
  }
 },
 "nbformat": 4,
 "nbformat_minor": 5
}
