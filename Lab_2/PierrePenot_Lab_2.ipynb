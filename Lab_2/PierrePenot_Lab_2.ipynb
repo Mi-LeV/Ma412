{
 "cells": [
  {
   "cell_type": "markdown",
   "id": "3d8f08d9",
   "metadata": {},
   "source": [
    "# 2023/2024 - Ma412 \n",
    "\n",
    "# Lab 2: Sparse Regression "
   ]
  },
  {
   "cell_type": "markdown",
   "id": "2d071710",
   "metadata": {},
   "source": [
    "The purpose of this notebook is to use different linear regression algorithms on the dataset Boston House Price. This will include becoming familiar with the notions of regularization and selection of variables."
   ]
  },
  {
   "cell_type": "markdown",
   "id": "044d32e2",
   "metadata": {},
   "source": [
    "## 1. Linear regression\n",
    "\n",
    "We consider $X$ $\\in\\mathbb{R}^{l\\times(n+1)}$ the matrix containing the data whose the ith row is $(x_i,1)$ and $Y$ $\\in\\mathbb{R}^{l}$ the vector containing the labels $y_i$. We consider the least squares estimator the vector $$\n",
    "\\begin{pmatrix}\n",
    "\\hat{\\alpha}\\\\[3mm]\n",
    "\\hat{\\beta} \\\\[3mm]\n",
    "\\end{pmatrix}= (X^TX)^{-1}X^TY=min_{\\alpha\\in\\mathbb{R}^{n}, \\beta\\in\\mathbb{R}}\\sum_{i=1}^l(y_i-(<\\alpha,x_i>+\\beta))^2$$\n"
   ]
  },
  {
   "cell_type": "markdown",
   "id": "ad963b50",
   "metadata": {},
   "source": [
    "#### Questions:\n",
    "1. Program a $regression(X, Y)$ function that returns the least squares estimator. Use your regression function on the Boston House Prices dataset (to be loaded with\n",
    "the $datasets.load\\_boston()$ function."
   ]
  },
  {
   "cell_type": "code",
   "execution_count": 88,
   "id": "a1af1f25",
   "metadata": {
    "scrolled": true
   },
   "outputs": [
    {
     "name": "stdout",
     "output_type": "stream",
     "text": [
      "Root Mean Squared Error (RMSE): 5.214975145375402\n",
      "R-squared: 0.6733825506400196\n",
      "Beta hat (coefficients): [-1.21310401e-01  4.44664254e-02  1.13416945e-02  2.51124642e+00\n",
      " -1.62312529e+01  3.85906801e+00 -9.98516565e-03 -1.50026956e+00\n",
      "  2.42143466e-01 -1.10716124e-02 -1.01775264e+00  6.81446545e-03\n",
      " -4.86738066e-01]\n",
      "Alpha hat (intercept): 37.93710774183272\n",
      "Erreur des moindres carrés avec le modèle: 4133.786796566246\n"
     ]
    }
   ],
   "source": [
    "# ============================================================\n",
    "# import des librairie génériques utilisé lors de l'exercice précédent\n",
    "import pandas as pd\n",
    "import numpy as np\n",
    "from sklearn.model_selection import train_test_split\n",
    "from sklearn.linear_model import LinearRegression\n",
    "from sklearn import metrics\n",
    "import matplotlib.pyplot as plt\n",
    "from sklearn.metrics import mean_squared_error, r2_score\n",
    "from numpy.linalg import inv, pinv\n",
    "\n",
    "# Import des données \n",
    "data_url = \"http://lib.stat.cmu.edu/datasets/boston\"\n",
    "raw_df = pd.read_csv(data_url, sep=\"\\s+\", skiprows=22, header=None)\n",
    "data = np.hstack([raw_df.values[::2, :], raw_df.values[1::2, :2]])\n",
    "target = raw_df.values[1::2, 2]\n",
    "\n",
    "# X = data, Y = target  par défaut.\n",
    "X = data\n",
    "y = target\n",
    "\n",
    "# Split the dataset into training (70%) and testing (30%) sets \n",
    "X_train, X_test, y_train, y_test = train_test_split(X, y, test_size=0.3, random_state=0)\n",
    "\n",
    "# On fait la regression\n",
    "model = LinearRegression()\n",
    "# On entraine\n",
    "model.fit(X_train, y_train)\n",
    "\n",
    "# On test\n",
    "y_pred = model.predict(X_test)\n",
    "\n",
    "# Calcul RMSE\n",
    "rmse = np.sqrt(mean_squared_error(y_test, y_pred))\n",
    "print(\"Root Mean Squared Error (RMSE):\", rmse)\n",
    "\n",
    "# Calcul R-squared\n",
    "r2 = r2_score(y_test, y_pred)\n",
    "print(\"R-squared:\", r2)\n",
    "\n",
    "# Afficher le beta hat et le alpha hat\n",
    "print(\"Beta hat (coefficients):\", model.coef_)\n",
    "print(\"Alpha hat (intercept):\", model.intercept_)\n",
    "\n",
    "# Calcul de l'erreur des moindres carrés pour l'ensemble de test\n",
    "least_squares_error_model = np.sum((y_test - y_pred) ** 2)\n",
    "print(\"Erreur des moindres carrés avec le modèle:\", least_squares_error_model)\n",
    "\n",
    "\n",
    "\n",
    "  \n",
    "\n",
    "\n",
    "\n",
    "# ============================================================"
   ]
  },
  {
   "cell_type": "markdown",
   "id": "b0d0a310",
   "metadata": {},
   "source": [
    "2. Compare the vectors $\\hat{\\alpha}$ and $\\hat{\\beta}$ returned by the function by using with the $coef\\_$ and $intercept\\_$ attributes of a $linear\\_model.LinearRegression$.\n",
    "Some useful functions: $dot()$, $transpose()$, $pinv()$."
   ]
  },
  {
   "cell_type": "code",
   "execution_count": 89,
   "id": "8e147f7a",
   "metadata": {},
   "outputs": [
    {
     "name": "stdout",
     "output_type": "stream",
     "text": [
      "Alpha-hat de la formule: 37.93710774462488\n",
      "Alpha-hat du model: 37.93710774183272\n",
      "\n",
      "Beta-hat de la formule: [-1.21310401e-01  4.44664254e-02  1.13416945e-02  2.51124642e+00\n",
      " -1.62312529e+01  3.85906801e+00 -9.98516565e-03 -1.50026956e+00\n",
      "  2.42143466e-01 -1.10716124e-02 -1.01775264e+00  6.81446545e-03\n",
      " -4.86738066e-01]\n",
      "Beta-hat du model: [-1.21310401e-01  4.44664254e-02  1.13416945e-02  2.51124642e+00\n",
      " -1.62312529e+01  3.85906801e+00 -9.98516565e-03 -1.50026956e+00\n",
      "  2.42143466e-01 -1.10716124e-02 -1.01775264e+00  6.81446545e-03\n",
      " -4.86738066e-01]\n"
     ]
    }
   ],
   "source": [
    "# ============================================================\n",
    "\n",
    "# Add a column of ones to X_train for the intercept\n",
    "X_with_intercept = np.hstack([np.ones((X_train.shape[0], 1)), X_train])\n",
    "\n",
    "\n",
    "# Compute beta_hat using the formul\n",
    "beta_hat_formul = np.dot(pinv(np.dot(X_with_intercept.T, X_with_intercept)), np.dot(X_with_intercept.T, y_train))\n",
    "\n",
    "# Extract alpha_hat and beta_hat from the above result\n",
    "alpha_hat_formul = beta_hat_formul[0]\n",
    "beta_hat_formul = beta_hat_formul[1:]\n",
    "\n",
    "print(\"Alpha-hat de la formule:\", alpha_hat_formul)\n",
    "print(\"Alpha-hat du model:\", model.intercept_)\n",
    "print(\"\\nBeta-hat de la formule:\", beta_hat_formul)\n",
    "print(\"Beta-hat du model:\", model.coef_)\n",
    "\n",
    "\n",
    "\n",
    "# ============================================================"
   ]
  },
  {
   "cell_type": "markdown",
   "id": "14b406a7",
   "metadata": {},
   "source": [
    "3. Write the funcion $regress(X,\\alpha, \\beta)$ which returns the vector $\\hat{Y}$ of the predicted labels\n",
    "such as $\\hat{y}_i=<\\alpha,x_i>+\\beta$."
   ]
  },
  {
   "cell_type": "code",
   "execution_count": 90,
   "id": "43298b5f",
   "metadata": {
    "scrolled": true
   },
   "outputs": [
    {
     "name": "stdout",
     "output_type": "stream",
     "text": [
      "[24.9357079  23.75163164 29.32638296 11.97534566 21.37272478 19.19148525\n",
      " 20.5717479  21.21154015 19.04572003 20.35463238  5.44119126 16.93688709\n",
      " 17.15482272  5.3928209  40.20270696 32.31327348 22.46213268 36.50124666\n",
      " 31.03737014 23.17124551 24.74815321 24.49939403 20.6595791  30.4547583\n",
      " 22.32487164 10.18932894 17.44286422 18.26103077 35.63299326 20.81960303\n",
      " 18.27218007 17.72047628 19.33772473 23.62254823 28.97766856 19.45036239\n",
      " 11.13170639 24.81843595 18.05294835 15.59712226 26.21043403 20.81140432\n",
      " 22.17349382 15.48367365 22.62261604 24.88561528 19.74754478 23.0465628\n",
      "  9.84579105 24.36378793 21.47849008 17.62118176 24.39160873 29.95102691\n",
      " 13.57219422 21.53645439 20.53306273 15.03433182 14.3232289  22.11929299\n",
      " 17.07321915 21.54141094 32.96766968 31.371599   17.7860591  32.75069556\n",
      " 18.74795323 19.21428022 19.41970047 23.08087809 22.87732816 24.06399098\n",
      " 30.52824406 28.71453508 25.90763165  5.17596718 36.8709072  23.76983849\n",
      " 27.26064379 19.25849042 28.41860517 19.3008798  18.94922353 38.00154059\n",
      " 39.44096748 23.72297885 24.83722534 16.52015743 25.9970546  16.73997072\n",
      " 15.48656983 13.52825536 24.12884363 30.76919578 22.18731163 19.8848644\n",
      "  0.42275479 24.86785849 16.05692    17.42486412 25.49798527 22.35171315\n",
      " 32.66562689 22.04428746 27.29799885 23.20302026  6.86196574 14.869251\n",
      " 22.31804948 29.18125768 33.22568234 13.24392523 19.67195771 20.7502616\n",
      " 12.02271319 23.50067006  5.55662571 19.87634689  9.27059783 44.81787339\n",
      " 30.56017983 12.44394048 17.33192202 21.48313292 23.52664913 20.49877266\n",
      " 35.09161099 13.22639935 20.70321163 35.35582833 19.45050576 13.81603561\n",
      " 14.15654562 23.03678503 15.07521258 30.9662041  25.23236632 15.43763716\n",
      " 24.06406534  9.93080346 15.01618901 21.06098873 32.87115732 27.80927747\n",
      " 25.91293794 15.27877362 30.97489404 27.81107682 14.5068157   7.57369946\n",
      " 28.3348068  25.04341153]\n"
     ]
    }
   ],
   "source": [
    "# ============================================================\n",
    "def regress(X, alpha, beta):\n",
    "\n",
    "    # Compute the dot product of X and alpha and then add beta\n",
    "    y_hat = np.dot(X, alpha) + beta\n",
    "    return y_hat\n",
    "\n",
    "\n",
    "y_pred = regress(X_test, model.coef_, model.intercept_)\n",
    "print(y_pred)\n",
    "\n",
    "# ============================================================"
   ]
  },
  {
   "cell_type": "markdown",
   "id": "5451a897",
   "metadata": {},
   "source": [
    "4. Calculate the least squares error $\\epsilon=\\lVert Y-\\hat{Y} \\rVert_2^2=\\sum_{i=1}^l(y_i-\\hat{y}_i)^2$ of the learned regressor about the entire Boston dataset."
   ]
  },
  {
   "cell_type": "code",
   "execution_count": 91,
   "id": "cfd027b3",
   "metadata": {},
   "outputs": [
    {
     "name": "stdout",
     "output_type": "stream",
     "text": [
      "L'erreur des moindres carrés : 4133.786796566246\n"
     ]
    }
   ],
   "source": [
    "# Obtenir les prédictions pour l'ensemble de données complet\n",
    "y_hat_full = regress(X_test, model.coef_, model.intercept_)\n",
    "\n",
    "# Calculer l'erreur des moindres carrés\n",
    "epsilon = np.sum((y_test - y_hat_full) ** 2)\n",
    "\n",
    "print(\"L'erreur des moindres carrés :\", epsilon)\n"
   ]
  },
  {
   "cell_type": "markdown",
   "id": "0c728322",
   "metadata": {},
   "source": [
    "On se rend compte que les deux approchent donnent des résultat similaires\n"
   ]
  },
  {
   "cell_type": "markdown",
   "id": "b1f46794",
   "metadata": {},
   "source": [
    "## 2. Ridge regression"
   ]
  },
  {
   "cell_type": "markdown",
   "id": "ad51dd59",
   "metadata": {},
   "source": [
    "In some cases, the matrix $X^TX$ is not invertible. To remedy to this problem, we add a ridge $\\lambda\\mathbb{1}$ to this matrix where $\\mathbb{1}\\in\\mathbb{R}^{(n+1)\\times(n+1)}$ is the following matrix:\n",
    "\n",
    "$$\\begin{pmatrix}\n",
    "1 & ... & \\cdots & 0 \\\\\n",
    "0& \\ddots & \\cdots & 0 \\\\\n",
    "\\vdots & \\vdots & 1 & \\vdots \\\\\n",
    "0 & 0 & \\cdots & 0\n",
    "\\end{pmatrix}$$"
   ]
  },
  {
   "cell_type": "markdown",
   "id": "5f01e0aa",
   "metadata": {},
   "source": [
    "This corresponds to a slight modification of the optimization problem which penalizes the size of the\n",
    "coefficients. The generalized least squares vector is given by: \n",
    "$$\\begin{pmatrix}\n",
    "\\hat{\\alpha}\\\\[3mm]\n",
    "\\hat{\\beta} \\\\[3mm]\n",
    "\\end{pmatrix}= (X^TX+\\lambda\\mathbb{1})^{-1}X^TY=min_{\\alpha\\in\\mathbb{R}^{n}, \\beta\\in\\mathbb{R}}\\sum_{i=1}^l(y_i-(<\\alpha,x_i>+\\beta))^2+\\lambda\\lVert \\alpha \\rVert_2^2$$\n"
   ]
  },
  {
   "cell_type": "markdown",
   "id": "599a8e8c",
   "metadata": {},
   "source": [
    "#### Questions:\n",
    "1. Program a $ridge\\_regression(X, Y,\\lambda)$ function that returns the least squares estimator. Compare again the vectors $\\hat{\\alpha}$ and $\\hat{\\beta}$ obtained for the parameter\n",
    "$\\lambda = 1$ on the Boston dataset using $coe\\_$ and $intercept\\_$ attributes of a regressor $linear\\_model.Ridge$."
   ]
  },
  {
   "cell_type": "code",
   "execution_count": 92,
   "id": "7915df4f",
   "metadata": {},
   "outputs": [
    {
     "name": "stdout",
     "output_type": "stream",
     "text": [
      "Alpha hat (coefficients): [-1.18308575e-01  4.61259764e-02 -2.08626416e-02  2.45868617e+00\n",
      " -8.25958494e+00  3.89748516e+00 -1.79140171e-02 -1.39737175e+00\n",
      "  2.18432298e-01 -1.16338128e-02 -9.31711410e-01  7.26996266e-03\n",
      " -4.94046539e-01]\n",
      "Beta hat (intercept): 32.53698634606846\n"
     ]
    }
   ],
   "source": [
    "# ============================================================\n",
    "from sklearn.linear_model import Ridge\n",
    "import numpy as np\n",
    "import matplotlib.pyplot as plt\n",
    "\n",
    "def ridge_regression(X, Y, λ):\n",
    "    model = Ridge(alpha=λ)\n",
    "    model.fit(X, Y)\n",
    "    return model.coef_, model.intercept_\n",
    "X = data\n",
    "y = target\n",
    "\n",
    "X_train, X_test, y_train, y_test = train_test_split(X, y, test_size=0.3, random_state=0)\n",
    "\n",
    "α_hat, β_hat = ridge_regression(X_train, y_train, 1)\n",
    "\n",
    "print(\"Alpha hat (coefficients):\", α_hat)\n",
    "print(\"Beta hat (intercept):\", β_hat)\n",
    "\n",
    "# ============================================================"
   ]
  },
  {
   "cell_type": "markdown",
   "id": "f96d1c2d",
   "metadata": {},
   "source": [
    "2. Plot the evolution of the coefficients of the vector $\\hat{\\alpha}$ as a function of the regularization parameter\n",
    "$\\lambda$ for values between $1e-3$ and $1e3$. Which variables seem to best explain the house prices in Boston?"
   ]
  },
  {
   "cell_type": "code",
   "execution_count": 93,
   "id": "fadc4e8c",
   "metadata": {},
   "outputs": [
    {
     "data": {
      "image/png": "[encoded data removed]",
      "text/plain": [
       "<Figure size 1000x600 with 1 Axes>"
      ]
     },
     "metadata": {},
     "output_type": "display_data"
    }
   ],
   "source": [
    "# ============================================================\n",
    "\n",
    "# Liste typique des noms de colonnes pour le dataset de Boston (cette ligne est obligatoire a cause de la facon dont j'importe)\n",
    "column_names = [\"CRIM\", \"ZN\", \"INDUS\", \"CHAS\", \"NOX\", \"RM\", \"AGE\", \"DIS\", \"RAD\", \"TAX\", \"PTRATIO\", \"B\", \"LSTAT\"]\n",
    "\n",
    "# Définition de la plage des valeurs de lambda\n",
    "lambdas = np.logspace(-3, 3, 50)\n",
    "coefficients = []\n",
    "\n",
    "# Entrainement de la régression Ridge pour différentes valeurs de lambda\n",
    "for l in lambdas:\n",
    "    ridge = Ridge(alpha=l)\n",
    "    ridge.fit(data, target)\n",
    "    coefficients.append(ridge.coef_)\n",
    "\n",
    "# Tracer l'évolution des coefficients en fonction de lambda\n",
    "plt.figure(figsize=(10, 6))\n",
    "for i in range(len(column_names)):\n",
    "    plt.plot(lambdas, [coef[i] for coef in coefficients], label=column_names[i])\n",
    "\n",
    "plt.xscale('log')\n",
    "plt.xlabel('Lambda')\n",
    "plt.ylabel('Coefficient Value')\n",
    "plt.title('Ridge Coefficients as a function of Regularization')\n",
    "plt.legend()\n",
    "plt.show()\n",
    "\n",
    "# ============================================================"
   ]
  },
  {
   "cell_type": "markdown",
   "id": "282cd807",
   "metadata": {},
   "source": [
    "On se rends compte que \"indus \"est la variable qui qui explique le mieux les prix de boston car elle ne décend pas a Zero"
   ]
  },
  {
   "cell_type": "markdown",
   "id": "d8b69a8a",
   "metadata": {},
   "source": [
    "3. Find by some appropriate means the best value for the parameter $\\lambda$ . Learn then and run a regressor with this value on the entire Boston dataset and compute\n",
    "the error in the sense of least squares on this same sample."
   ]
  },
  {
   "cell_type": "code",
   "execution_count": 94,
   "id": "33282153",
   "metadata": {},
   "outputs": [
    {
     "name": "stdout",
     "output_type": "stream",
     "text": [
      "Le meilleur lambda trouvé est : 0.1\n",
      "Erreur des moindres carrés sur l'ensemble de test : 4144.371326192782\n"
     ]
    }
   ],
   "source": [
    "# ============================================================\n",
    "from sklearn.linear_model import RidgeCV\n",
    "from sklearn.metrics import mean_squared_error\n",
    "\n",
    "# Définir les valeurs de lambda à tester\n",
    "lambdas = np.logspace(-6, 6, 13)\n",
    "\n",
    "# Utilisation de RidgeCV pour trouver le meilleur lambda via validation croisée\n",
    "ridge_cv = RidgeCV(alphas=lambdas, store_cv_values=True)\n",
    "ridge_cv.fit(X_train, y_train)\n",
    "\n",
    "# Récupérer le meilleur lambda\n",
    "best_lambda = ridge_cv.alpha_\n",
    "\n",
    "print(f\"Le meilleur lambda trouvé est : {best_lambda}\")\n",
    "\n",
    "# Entraîner un modèle Ridge avec le meilleur lambda sur l'ensemble d'entraînement\n",
    "ridge_best = Ridge(alpha=best_lambda)\n",
    "ridge_best.fit(X_train, y_train)\n",
    "\n",
    "# Prédire sur l'ensemble de test\n",
    "y_pred = ridge_best.predict(X_test)\n",
    "\n",
    "# Calculer l'erreur au sens des moindres carrés sur l'ensemble de test\n",
    "ls_error = mean_squared_error(y_test, y_pred) * len(y_test)\n",
    "print(f\"Erreur des moindres carrés sur l'ensemble de test : {ls_error}\")\n",
    "# ============================================================"
   ]
  },
  {
   "cell_type": "markdown",
   "id": "26e46b0b",
   "metadata": {},
   "source": [
    "## 3. LASSO regression"
   ]
  },
  {
   "cell_type": "markdown",
   "id": "83e6b8d8",
   "metadata": {},
   "source": [
    "In this regularization, the penalization of the vector of the coefficients is done here with the norm $l_1$ instead of the Euclidean norm $l_2$. Consider $\\alpha\\in\\mathbb{R}^{n}$, $\\lVert \\alpha \\rVert_1=\\sum_{i=1}^n|\\alpha_i|$. Solutions are then parsimonious. The optimization problem is given by:\n",
    "$$min_{\\alpha\\in\\mathbb{R}^{n}, \\beta\\in\\mathbb{R}}\\sum_{i=1}^l(y_i-(<\\alpha,x_i>+\\beta))^2+\\lambda\\lVert \\alpha \\rVert_1$$"
   ]
  },
  {
   "cell_type": "markdown",
   "id": "d446e2cf",
   "metadata": {},
   "source": [
    "#### Questions:\n",
    "1. Using the $linear\\_model.Lasso$ class, plot the evolution of the coefficients of the vector $\\hat{\\alpha}$ regarding the value of the parameter $\\lambda$. Which variables seem to best explain the\n",
    "house prices in Boston? Are they the same as those found in the previous exercise? How do other variables behave when the value of $\\lambda$ increases?"
   ]
  },
  {
   "cell_type": "code",
   "execution_count": 95,
   "id": "c4b28364",
   "metadata": {
    "scrolled": false
   },
   "outputs": [
    {
     "data": {
      "image/png": "[encoded data removed]",
      "text/plain": [
       "<Figure size 1200x700 with 1 Axes>"
      ]
     },
     "metadata": {},
     "output_type": "display_data"
    }
   ],
   "source": [
    "# ============================================================\n",
    "from sklearn.linear_model import Lasso\n",
    "import matplotlib.pyplot as plt\n",
    "import numpy as np\n",
    "\n",
    "# Définir une plage de valeurs pour lambda\n",
    "lambdas = np.logspace(-4, 4, 100)\n",
    "coefficients = []\n",
    "\n",
    "# Pour chaque valeur de lambda, entraînez un modèle LASSO et stockez les coefficients\n",
    "for l in lambdas:\n",
    "    lasso = Lasso(alpha=l, max_iter=10000)\n",
    "    lasso.fit(data, target)\n",
    "    coefficients.append(lasso.coef_)\n",
    "\n",
    "# Tracez l'évolution des coefficients\n",
    "plt.figure(figsize=(12, 7))\n",
    "for i in range(data.shape[1]):\n",
    "    plt.plot(lambdas, [coef[i] for coef in coefficients], label=column_names[i] )\n",
    "plt.xscale('log')\n",
    "plt.xlabel('Valeur de Lambda')\n",
    "plt.ylabel('Valeur des Coefficients')\n",
    "plt.title('LASSO: Évolution des coefficients en fonction de lambda')\n",
    "plt.legend()\n",
    "plt.show()\n",
    "\n",
    "\n",
    "# ============================================================"
   ]
  },
  {
   "cell_type": "markdown",
   "id": "49183642",
   "metadata": {},
   "source": [
    "Encore une fois indus semble très sinificatif, certaine variables comme ZN semblent insignifiantes."
   ]
  },
  {
   "cell_type": "markdown",
   "id": "097bce41",
   "metadata": {},
   "source": [
    "2. Find by some appropriate means the best value for the $\\lambda$ parameter. Learn then and run a regressor with this value on the entire Boston dataset and compute\n",
    "the error in the sense of least squares on this same sample."
   ]
  },
  {
   "cell_type": "code",
   "execution_count": 99,
   "id": "6f652d7f",
   "metadata": {},
   "outputs": [
    {
     "name": "stdout",
     "output_type": "stream",
     "text": [
      "La meilleure valeur pour lambda est : 0.0001\n",
      "Erreur des moindres carrés sur l'ensemble de test : 27.197493368740695\n"
     ]
    }
   ],
   "source": [
    "# ============================================================\n",
    "from sklearn.linear_model import LassoCV\n",
    "from sklearn.metrics import mean_squared_error\n",
    "\n",
    "#Utilisez LassoCV pour trouver le meilleur lambda sur l'ensemble d'entraînement\n",
    "lasso_cv = LassoCV(alphas=lambdas, cv=5, max_iter=10000)\n",
    "lasso_cv.fit(X_train, y_train)\n",
    "\n",
    "# La meilleure valeur de lambda\n",
    "best_lambda = lasso_cv.alpha_\n",
    "print(f\"La meilleure valeur pour lambda est : {best_lambda}\")\n",
    "\n",
    "# 2. Entraînez un modèle LASSO avec la meilleure valeur de lambda sur l'ensemble d'entraînement\n",
    "lasso_best = Lasso(alpha=best_lambda, max_iter=10000)\n",
    "lasso_best.fit(X_train, y_train)\n",
    "\n",
    "# Prédire sur l'ensemble de test\n",
    "y_pred = lasso_best.predict(X_test)\n",
    "\n",
    "# 3. Calculez l'erreur au sens des moindres carrés sur l'ensemble de test\n",
    "mse = mean_squared_error(y_test, y_pred)\n",
    "print(f\"Erreur des moindres carrés sur l'ensemble de test : {mse}\")\n",
    "\n",
    "# ============================================================"
   ]
  },
  {
   "cell_type": "markdown",
   "id": "4e5eddcc",
   "metadata": {},
   "source": [
    "## 4. Elastic Net Regression"
   ]
  },
  {
   "cell_type": "markdown",
   "id": "be093f1e",
   "metadata": {},
   "source": [
    "In Elastic Net Regularization we add the both terms of $l_1$ and $l_2$ to get the final loss function. Referring to the course, apply the elastic Net regularization to train your model, calculate the prediction and the mean square error. "
   ]
  },
  {
   "cell_type": "code",
   "execution_count": 100,
   "id": "7d02a1a4",
   "metadata": {},
   "outputs": [
    {
     "name": "stdout",
     "output_type": "stream",
     "text": [
      "Erreur des moindres carrés avec Elastic Net sur l'ensemble de test : 31.87361081774105\n"
     ]
    }
   ],
   "source": [
    "from sklearn.linear_model import ElasticNet\n",
    "\n",
    "\n",
    "\n",
    "# Création du modèle Elastic Net\n",
    " \n",
    "l1_ratio = 0.5  # 0 = Ridge, 1 = Lasso\n",
    "elastic_net = ElasticNet(alpha=alpha, l1_ratio=l1_ratio, max_iter=10000)\n",
    "\n",
    "# Entraînement du modèle sur l'ensemble d'entraînement\n",
    "elastic_net.fit(X_train, y_train)\n",
    "\n",
    "# Prédire sur l'ensemble de test\n",
    "y_pred = elastic_net.predict(X_test)\n",
    "\n",
    "# Calcul de l'erreur des moindres carrés sur l'ensemble de test\n",
    "mse = mean_squared_error(y_test, y_pred)\n",
    "print(f\"Erreur des moindres carrés avec Elastic Net sur l'ensemble de test : {mse}\")\n",
    "\n"
   ]
  },
  {
   "cell_type": "markdown",
   "id": "bdb3c172",
   "metadata": {},
   "source": [
    "From the above analysis, which conclusions can you reach about the different regularization methods ?\n",
    "\n",
    "D'après les résultat que j'ai obtenu il semblerait que lLa lasso et l'elastic net regressions sont bien meilleur que les autres"
   ]
  },
  {
   "cell_type": "markdown",
   "id": "aea6fe81",
   "metadata": {},
   "source": [
    "## 5. Your Turn"
   ]
  },
  {
   "cell_type": "markdown",
   "id": "07b8659d",
   "metadata": {},
   "source": [
    "The purpose now is to test these approaches on other datasets. You may choose one from the UCI machine learning repository http://archive.ics.uci.edu/.\n",
    "Download a dataset, and try to determine the optimal set of parameters to use to model it! "
   ]
  },
  {
   "cell_type": "code",
   "execution_count": 86,
   "id": "2f9124e4",
   "metadata": {
    "scrolled": false
   },
   "outputs": [
    {
     "name": "stdout",
     "output_type": "stream",
     "text": [
      "Meilleur paramètre pour Ridge: {'alpha': 1}\n",
      "Score pour Ridge: 0.347282371002654\n",
      "\n",
      "Meilleur paramètre pour Lasso: {'alpha': 0.001}\n",
      "Score pour Lasso: 0.3463290155311871\n",
      "\n",
      "Meilleur paramètre pour ElasticNet: {'alpha': 0.001, 'l1_ratio': 0.2}\n",
      "Score pour ElasticNet: 0.34682063590526424\n"
     ]
    }
   ],
   "source": [
    "# ============================================================\n",
    "import pandas as pd\n",
    "from sklearn.model_selection import train_test_split, GridSearchCV\n",
    "from sklearn.linear_model import Ridge, Lasso, ElasticNet\n",
    "\n",
    "# Téléchargement des données\n",
    "url = \"http://archive.ics.uci.edu/ml/machine-learning-databases/wine-quality/winequality-red.csv\"\n",
    "data = pd.read_csv(url, sep=\";\")\n",
    "\n",
    "# Séparation des caractéristiques et de la cible\n",
    "X = data.drop(\"quality\", axis=1)\n",
    "y = data[\"quality\"]\n",
    "\n",
    "# Séparation en ensemble d'entraînement et de test\n",
    "X_train, X_test, y_train, y_test = train_test_split(X, y, test_size=0.3, random_state=42)\n",
    "\n",
    "# Utilisez GridSearchCV pour trouver les meilleurs paramètres pour Ridge\n",
    "ridge_params = {'alpha': [1e-3, 1e-2, 1e-1, 1, 10, 100]}\n",
    "ridge_grid = GridSearchCV(Ridge(), ridge_params, cv=5)\n",
    "ridge_grid.fit(X_train, y_train)\n",
    "print(f\"Meilleur paramètre pour Ridge: {ridge_grid.best_params_}\")\n",
    "print(f\"Score pour Ridge: {ridge_grid.score(X_test, y_test)}\\n\")\n",
    "\n",
    "# Utilisez GridSearchCV pour trouver les meilleurs paramètres pour Lasso\n",
    "lasso_params = {'alpha': [1e-3, 1e-2, 1e-1, 1, 10, 100]}\n",
    "lasso_grid = GridSearchCV(Lasso(), lasso_params, cv=5)\n",
    "lasso_grid.fit(X_train, y_train)\n",
    "print(f\"Meilleur paramètre pour Lasso: {lasso_grid.best_params_}\")\n",
    "print(f\"Score pour Lasso: {lasso_grid.score(X_test, y_test)}\\n\")\n",
    "\n",
    "# Utilisez GridSearchCV pour trouver les meilleurs paramètres pour ElasticNet\n",
    "elastic_params = {'alpha': [1e-3, 1e-2, 1e-1, 1, 10, 100], 'l1_ratio': [0.2, 0.4, 0.6, 0.8]}\n",
    "elastic_grid = GridSearchCV(ElasticNet(max_iter=10000), elastic_params, cv=5)\n",
    "elastic_grid.fit(X_train, y_train)\n",
    "print(f\"Meilleur paramètre pour ElasticNet: {elastic_grid.best_params_}\")\n",
    "print(f\"Score pour ElasticNet: {elastic_grid.score(X_test, y_test)}\")\n",
    "\n",
    "# ============================================================"
   ]
  },
  {
   "cell_type": "markdown",
   "id": "45df8560",
   "metadata": {},
   "source": [
    "Les résultats observé ici me font douter les résultat précédent mais je n'arrive pas a trouver mon erreur."
   ]
  }
 ],
 "metadata": {
  "kernelspec": {
   "display_name": "Python 3 (ipykernel)",
   "language": "python",
   "name": "python3"
  },
  "language_info": {
   "codemirror_mode": {
    "name": "ipython",
    "version": 3
   },
   "file_extension": ".py",
   "mimetype": "text/x-python",
   "name": "python",
   "nbconvert_exporter": "python",
   "pygments_lexer": "ipython3",
   "version": "3.10.13"
  }
 },
 "nbformat": 4,
 "nbformat_minor": 5
}
