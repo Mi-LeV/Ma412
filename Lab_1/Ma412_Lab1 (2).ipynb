{
 "cells": [
  {
   "attachments": {},
   "cell_type": "markdown",
   "id": "9110ecea",
   "metadata": {},
   "source": [
    "# 2023/2024 - Ma412 \n",
    "\n",
    "# Lab 1: Linear Regression "
   ]
  },
  {
   "attachments": {},
   "cell_type": "markdown",
   "id": "60b8bf8a",
   "metadata": {},
   "source": [
    "The purpose of this notebook is to practice implementing some linear algebra (equations provided) and to explore some properties of linear regression."
   ]
  },
  {
   "cell_type": "code",
   "execution_count": 5,
   "id": "16e3a769",
   "metadata": {},
   "outputs": [],
   "source": [
    "import numpy as np\n",
    "import scipy.linalg\n",
    "import matplotlib.pyplot as plt\n",
    "%matplotlib inline"
   ]
  },
  {
   "attachments": {},
   "cell_type": "markdown",
   "id": "9f4fa44b",
   "metadata": {},
   "source": [
    "We consider a linear regression problem of the form\n",
    "$$\n",
    "y = \\boldsymbol x^T\\boldsymbol\\theta + \\epsilon\\,,\\quad \\epsilon \\sim \\mathcal N(0, \\sigma^2)\n",
    "$$\n",
    "where $\\boldsymbol x\\in\\mathbb{R}^D$ are inputs and $y\\in\\mathbb{R}$ are noisy observations. The parameter vector $\\boldsymbol\\theta\\in\\mathbb{R}^D$ parametrizes the function.\n",
    "\n",
    "We assume we have a training set $(\\boldsymbol x_n, y_n)$, $n=1,\\ldots, N$. We summarize the sets of training inputs in $\\mathcal X = \\{\\boldsymbol x_1, \\ldots, \\boldsymbol x_N\\}$ and corresponding training targets $\\mathcal Y = \\{y_1, \\ldots, y_N\\}$, respectively.\n",
    "\n",
    "In this work, we are interested in finding good parameters $\\boldsymbol\\theta$."
   ]
  },
  {
   "cell_type": "code",
   "execution_count": 6,
   "id": "e86abb3a",
   "metadata": {},
   "outputs": [],
   "source": [
    "# Define training set\n",
    "X = np.array([-3, -1, 0, 1, 3]).reshape(-1,1) # 5x1 vector, N=5, D=1\n",
    "y = np.array([-1.2, -0.7, 0.14, 0.67, 1.67]).reshape(-1,1) # 5x1 vector"
   ]
  },
  {
   "cell_type": "code",
   "execution_count": 7,
   "id": "02927597",
   "metadata": {},
   "outputs": [
    {
     "data": {
      "image/png": "[encoded data removed]",
      "text/plain": [
       "<Figure size 640x480 with 1 Axes>"
      ]
     },
     "metadata": {},
     "output_type": "display_data"
    }
   ],
   "source": [
    "# Plot the training set\n",
    "\n",
    "plt.figure()\n",
    "plt.plot(X, y, '+', markersize=10)\n",
    "plt.xlabel(\"$x$\")\n",
    "plt.ylabel(\"$y$\");"
   ]
  },
  {
   "attachments": {},
   "cell_type": "markdown",
   "id": "43f48f23",
   "metadata": {},
   "source": [
    "## 1. Maximum Likelihood\n",
    "We will start with maximum likelihood estimation of the parameters $\\boldsymbol\\theta$. In maximum likelihood estimation, we find the parameters $\\boldsymbol\\theta^{\\mathrm{ML}}$ that maximize the likelihood\n",
    "$$\n",
    "p(\\mathcal Y | \\mathcal X, \\boldsymbol\\theta) = \\prod_{n=1}^N p(y_n | \\boldsymbol x_n, \\boldsymbol\\theta)\\,.\n",
    "$$\n",
    "From the lecture we know that the maximum likelihood estimator is given by\n",
    "$$\n",
    "\\boldsymbol\\theta^{\\text{ML}} = (\\boldsymbol X^T\\boldsymbol X)^{-1}\\boldsymbol X^T\\boldsymbol y\\in\\mathbb{R}^D\\,,\n",
    "$$\n",
    "where \n",
    "$$\n",
    "\\boldsymbol X = [\\boldsymbol x_1, \\ldots, \\boldsymbol x_N]^T\\in\\mathbb{R}^{N\\times D}\\,,\\quad \\boldsymbol y = [y_1, \\ldots, y_N]^T \\in\\mathbb{R}^N\\,.\n",
    "$$"
   ]
  },
  {
   "cell_type": "code",
   "execution_count": 8,
   "id": "c3eecc16",
   "metadata": {},
   "outputs": [
    {
     "ename": "SyntaxError",
     "evalue": "invalid syntax. Perhaps you forgot a comma? (689823932.py, line 1)",
     "output_type": "error",
     "traceback": [
      "\u001b[1;36m  Cell \u001b[1;32mIn [8], line 1\u001b[1;36m\u001b[0m\n\u001b[1;33m    Let us compute the maximum likelihood estimate for a given training set.\u001b[0m\n\u001b[1;37m                               ^\u001b[0m\n\u001b[1;31mSyntaxError\u001b[0m\u001b[1;31m:\u001b[0m invalid syntax. Perhaps you forgot a comma?\n"
     ]
    }
   ],
   "source": [
    "Let us compute the maximum likelihood estimate for a given training set."
   ]
  },
  {
   "cell_type": "code",
   "execution_count": null,
   "id": "7683c607",
   "metadata": {},
   "outputs": [],
   "source": [
    "## EDIT THIS CELL\n",
    "def max_lik_estimate(X, y):\n",
    "    \n",
    "    # X: N x D matrix of training inputs\n",
    "    # y: N x 1 vector of training targets/observations\n",
    "    # returns: maximum likelihood parameters (D x 1)\n",
    "    \n",
    "    # ============================================================\n",
    "   \n",
    "     return np.linalg.solve(X.T@X,X.T@y)\n",
    "  \n",
    "   \n",
    "    # ============================================================"
   ]
  },
  {
   "cell_type": "code",
   "execution_count": null,
   "id": "6566d581",
   "metadata": {},
   "outputs": [
    {
     "name": "stdout",
     "output_type": "stream",
     "text": [
      "[[0.499]]\n"
     ]
    }
   ],
   "source": [
    "##EDIT THIS CELL\n",
    "# get maximum likelihood estimate\n",
    "\n",
    "print(max_lik_estimate(X, y))\n",
    "theta = max_lik_estimate(X, y)\n",
    "#theta = [[0.8]]\n",
    "    # ============================================================"
   ]
  },
  {
   "attachments": {},
   "cell_type": "markdown",
   "id": "ed1eeb93",
   "metadata": {},
   "source": [
    "Now, make a prediction using the maximum likelihood estimate that we just found."
   ]
  },
  {
   "cell_type": "code",
   "execution_count": null,
   "id": "aebb5d84",
   "metadata": {},
   "outputs": [],
   "source": [
    "## EDIT THIS CELL\n",
    "def predict_with_estimate(Xtest, theta):\n",
    "    \n",
    "    # Xtest: K x D matrix of test inputs\n",
    "    # theta: D x 1 vector of parameters\n",
    "    # returns: prediction of f(Xtest); K x 1 vector\n",
    "    \n",
    "    # ============================================================\n",
    "    ## x = np.zeros_like(theta)\n",
    "    ##x = np.zeros((len(  Xtest  ),len(theta )))\n",
    "    ##x = np.zeros((theta.shape[1] ,len(Xtest)))\n",
    "    \n",
    "    ##for n in range (len(theta)) :\n",
    "      ##  x[ n, :] = Xtest**(n+1)\n",
    "    ##print (x.shape)\n",
    "    return Xtest @ theta\n",
    "\n",
    "\n",
    "\n",
    "    # ============================================================"
   ]
  },
  {
   "attachments": {},
   "cell_type": "markdown",
   "id": "091c2f98",
   "metadata": {},
   "source": [
    "Now, let's see whether we got something useful:"
   ]
  },
  {
   "cell_type": "code",
   "execution_count": null,
   "id": "089af416",
   "metadata": {},
   "outputs": [
    {
     "data": {
      "image/png": "[encoded data removed]",
      "text/plain": [
       "<Figure size 400x400 with 1 Axes>"
      ]
     },
     "metadata": {},
     "output_type": "display_data"
    }
   ],
   "source": [
    "## EDIT THIS CELL\n",
    "# define a test set\n",
    "Xtest = np.linspace(-5,5,100).reshape(-1,1) # 100 x 1 vector of test inputs\n",
    "\n",
    "# predict the function values at the test points using the maximum likelihood estimator\n",
    "    # ============================================================\n",
    "Ytest = predict_with_estimate(Xtest, theta) \n",
    "\n",
    "    # ============================================================\n",
    "\n",
    "# plot the prediction\n",
    "    # ============================================================\n",
    "plt.figure()\n",
    "plt.plot(X, y, '+', markersize=10)\n",
    "plt.xlabel(\"$x$\")\n",
    "plt.ylabel(\"$y$\");\n",
    "plt.plot(Xtest, Ytest)\n",
    "plt.show()\n",
    "    # ============================================================"
   ]
  },
  {
   "attachments": {},
   "cell_type": "markdown",
   "id": "e05f78d4",
   "metadata": {},
   "source": [
    "#### Questions:\n",
    "1. Does the solution above look reasonable?\n",
    "2. Play around with different values of $\\theta$. How do the corresponding functions change?\n",
    "3. Modify the training targets $\\mathcal Y$ and re-run your computation. What changes?"
   ]
  },
  {
   "cell_type": "raw",
   "id": "60853da2",
   "metadata": {},
   "source": [
    "# EDIT THIS CELL\n",
    "1. Does the solution above look reasonable?\n",
    "\n",
    "Yes it does\n",
    "\n",
    "2. Play around with different values of $\\theta$. How do the corresponding functions change?\n",
    "\n",
    "When you augment the $\\theta$ value the courbe inclinaison change \n",
    "\n",
    "3. Modify the training targets $\\mathcal Y$ and re-run your computation. What changes?\n",
    "\n",
    "the curve adapte to folow the point cloud "
   ]
  },
  {
   "attachments": {},
   "cell_type": "markdown",
   "id": "1d864c7e",
   "metadata": {},
   "source": [
    "Let us now look at a different training set, where we add 2.0 to every $y$-value."
   ]
  },
  {
   "cell_type": "code",
   "execution_count": null,
   "id": "db923fec",
   "metadata": {},
   "outputs": [
    {
     "data": {
      "image/png": "[encoded data removed]",
      "text/plain": [
       "<Figure size 400x400 with 1 Axes>"
      ]
     },
     "metadata": {},
     "output_type": "display_data"
    }
   ],
   "source": [
    "ynew = y + 2.0\n",
    "\n",
    "plt.figure()\n",
    "plt.plot(X, ynew, '+', markersize=10)\n",
    "plt.xlabel(\"$x$\")\n",
    "plt.ylabel(\"$y$\");"
   ]
  },
  {
   "attachments": {},
   "cell_type": "markdown",
   "id": "657da034",
   "metadata": {},
   "source": [
    "Compute the maximum likelihood estimate."
   ]
  },
  {
   "cell_type": "code",
   "execution_count": null,
   "id": "eee614f5",
   "metadata": {},
   "outputs": [
    {
     "name": "stdout",
     "output_type": "stream",
     "text": [
      "[[0.499]]\n"
     ]
    },
    {
     "data": {
      "image/png": "[encoded data removed]",
      "text/plain": [
       "<Figure size 400x400 with 1 Axes>"
      ]
     },
     "metadata": {},
     "output_type": "display_data"
    }
   ],
   "source": [
    "## EDIT THIS CELL\n",
    "# get the maximum likelihood estimate\n",
    "    # ============================================================\n",
    "print(max_lik_estimate(X, ynew))\n",
    "theta = max_lik_estimate(X, ynew)\n",
    "    # ============================================================\n",
    "\n",
    "# define a test set\n",
    "Xtest = np.linspace(-5,5,100).reshape(-1,1) # 100 x 1 vector of test inputs\n",
    "\n",
    "# predict the function values at the test points using the maximum likelihood estimator\n",
    "    # ============================================================\n",
    "Ytest = predict_with_estimate(Xtest, theta) \n",
    "\n",
    "    # ============================================================\n",
    "\n",
    "# plot the prediction\n",
    "    # ============================================================\n",
    "\n",
    "    # ============================================================\n",
    "\n",
    "# plot the prediction\n",
    "    # ============================================================\n",
    "plt.figure()\n",
    "plt.plot(X, ynew, '+', markersize=10)\n",
    "plt.xlabel(\"$x$\")\n",
    "plt.ylabel(\"$ynew$\");\n",
    "plt.plot(Xtest, Ytest)\n",
    "plt.show()\n",
    "    # ============================================================"
   ]
  },
  {
   "attachments": {},
   "cell_type": "markdown",
   "id": "79cc004d",
   "metadata": {},
   "source": [
    "#### Questions:\n",
    "1. This maximum likelihood estimate doesn't look too good: The orange line is too far away from the observations although we just shifted them by 2. Why is this the case?\n",
    "2. How can we fix this problem?"
   ]
  },
  {
   "attachments": {},
   "cell_type": "markdown",
   "id": "d3675e8e",
   "metadata": {},
   "source": [
    "## EDIT THIS CELL\n",
    "1. The line follow the good trjectory but is under the good estimation \n",
    "2. We could add a parameter to the current line to correct the curent problem"
   ]
  },
  {
   "attachments": {},
   "cell_type": "markdown",
   "id": "f1e40b44",
   "metadata": {},
   "source": [
    "Let us now define a linear regression model that is slightly more flexible:\n",
    "$$\n",
    "y = \\theta_0 + \\boldsymbol x^T \\boldsymbol\\theta_1 + \\epsilon\\,,\\quad \\epsilon\\sim\\mathcal N(0,\\sigma^2)\n",
    "$$\n",
    "Here, we added an offset (bias) parameter $\\theta_0$ to our original model."
   ]
  },
  {
   "attachments": {},
   "cell_type": "markdown",
   "id": "68f2e7f2",
   "metadata": {},
   "source": [
    "#### Question:\n",
    "What is the effect of this bias parameter, i.e., what additional flexibility does it offer?"
   ]
  },
  {
   "cell_type": "raw",
   "id": "6c159c28",
   "metadata": {},
   "source": [
    "## EDIT THIS CELL\n",
    "It permit the line to not pass by the origin."
   ]
  },
  {
   "attachments": {},
   "cell_type": "markdown",
   "id": "2f864778",
   "metadata": {},
   "source": [
    "If we now define the inputs to be the augmented vector $\\boldsymbol x_{\\text{aug}} = \\begin{bmatrix}1\\\\\\boldsymbol x\\end{bmatrix}$, we can write the new linear regression model as \n",
    "$$\n",
    "y = \\boldsymbol x_{\\text{aug}}^T\\boldsymbol\\theta_{\\text{aug}} + \\epsilon\\,,\\quad \\boldsymbol\\theta_{\\text{aug}} = \\begin{bmatrix}\n",
    "\\theta_0\\\\\n",
    "\\boldsymbol\\theta_1\n",
    "\\end{bmatrix}\\,.\n",
    "$$"
   ]
  },
  {
   "cell_type": "code",
   "execution_count": 9,
   "id": "f193db4e",
   "metadata": {},
   "outputs": [],
   "source": [
    "N, D = X.shape\n",
    "X_aug = np.hstack([np.ones((N,1)), X]) # augmented training inputs of size N x (D+1)\n",
    "theta_aug = np.zeros((D+1, 1)) # new theta vector of size (D+1) x 1"
   ]
  },
  {
   "attachments": {},
   "cell_type": "markdown",
   "id": "2f7aaf5c",
   "metadata": {},
   "source": [
    "Let us now compute the maximum likelihood estimator for this setting.\n",
    "_Hint:_ If possible, re-use code that you have already written"
   ]
  },
  {
   "cell_type": "code",
   "execution_count": 10,
   "id": "f14b3bbd",
   "metadata": {},
   "outputs": [],
   "source": [
    "## EDIT THIS FUNCTION\n",
    "def max_lik_estimate_aug(X_aug, y):\n",
    "    print  (X_aug.shape)\n",
    "    # ============================================================\n",
    "    \n",
    "    return np.linalg.solve(X_aug.T@X_aug,X_aug.T@y)\n",
    "   \n",
    "    # ============================================================"
   ]
  },
  {
   "cell_type": "code",
   "execution_count": 11,
   "id": "b449d983",
   "metadata": {},
   "outputs": [
    {
     "name": "stdout",
     "output_type": "stream",
     "text": [
      "(5, 2)\n",
      "[[0.116]\n",
      " [0.499]]\n"
     ]
    }
   ],
   "source": [
    "## EDIT THIS CELL\n",
    "## Output\n",
    "    # ============================================================\n",
    "print (max_lik_estimate_aug(X_aug, y))\n",
    "\n",
    "    # ============================================================"
   ]
  },
  {
   "attachments": {},
   "cell_type": "markdown",
   "id": "2af4e141",
   "metadata": {},
   "source": [
    "Now, we can make predictions again."
   ]
  },
  {
   "cell_type": "code",
   "execution_count": 12,
   "id": "81e99f71",
   "metadata": {},
   "outputs": [
    {
     "ename": "NameError",
     "evalue": "name 'Xtest' is not defined",
     "output_type": "error",
     "traceback": [
      "\u001b[1;31m---------------------------------------------------------------------------\u001b[0m",
      "\u001b[1;31mNameError\u001b[0m                                 Traceback (most recent call last)",
      "\u001b[1;32mc:\\Users\\CE PC\\Documents\\Python\\Ma412\\Lab_1\\Ma412_Lab1_corr.ipynb Cell 32\u001b[0m in \u001b[0;36m3\n\u001b[0;32m      <a href='vscode-notebook-cell:/c%3A/Users/CE%20PC/Documents/Python/Ma412/Lab_1/Ma412_Lab1_corr.ipynb#X43sZmlsZQ%3D%3D?line=0'>1</a>\u001b[0m \u001b[39m## EDIT THIS CELL\u001b[39;00m\n\u001b[0;32m      <a href='vscode-notebook-cell:/c%3A/Users/CE%20PC/Documents/Python/Ma412/Lab_1/Ma412_Lab1_corr.ipynb#X43sZmlsZQ%3D%3D?line=1'>2</a>\u001b[0m \u001b[39m# define a test set (we also need to augment the test inputs with ones)\u001b[39;00m\n\u001b[1;32m----> <a href='vscode-notebook-cell:/c%3A/Users/CE%20PC/Documents/Python/Ma412/Lab_1/Ma412_Lab1_corr.ipynb#X43sZmlsZQ%3D%3D?line=2'>3</a>\u001b[0m Xtest_aug \u001b[39m=\u001b[39m np\u001b[39m.\u001b[39mhstack([np\u001b[39m.\u001b[39mones((Xtest\u001b[39m.\u001b[39mshape[\u001b[39m0\u001b[39m],\u001b[39m1\u001b[39m)), Xtest]) \u001b[39m# 100 x (D + 1) vector of test inputs\u001b[39;00m\n\u001b[0;32m      <a href='vscode-notebook-cell:/c%3A/Users/CE%20PC/Documents/Python/Ma412/Lab_1/Ma412_Lab1_corr.ipynb#X43sZmlsZQ%3D%3D?line=4'>5</a>\u001b[0m \u001b[39m# predict the function values at the test points using the maximum likelihood estimator\u001b[39;00m\n\u001b[0;32m      <a href='vscode-notebook-cell:/c%3A/Users/CE%20PC/Documents/Python/Ma412/Lab_1/Ma412_Lab1_corr.ipynb#X43sZmlsZQ%3D%3D?line=5'>6</a>\u001b[0m     \u001b[39m# ============================================================\u001b[39;00m\n\u001b[0;32m      <a href='vscode-notebook-cell:/c%3A/Users/CE%20PC/Documents/Python/Ma412/Lab_1/Ma412_Lab1_corr.ipynb#X43sZmlsZQ%3D%3D?line=6'>7</a>\u001b[0m     \u001b[39m# Your code here ...\u001b[39;00m\n\u001b[1;32m   (...)\u001b[0m\n\u001b[0;32m     <a href='vscode-notebook-cell:/c%3A/Users/CE%20PC/Documents/Python/Ma412/Lab_1/Ma412_Lab1_corr.ipynb#X43sZmlsZQ%3D%3D?line=11'>12</a>\u001b[0m     \u001b[39m# Your code here ...\u001b[39;00m\n\u001b[0;32m     <a href='vscode-notebook-cell:/c%3A/Users/CE%20PC/Documents/Python/Ma412/Lab_1/Ma412_Lab1_corr.ipynb#X43sZmlsZQ%3D%3D?line=12'>13</a>\u001b[0m     \u001b[39m# ============================================================\u001b[39;00m\n\u001b[0;32m     <a href='vscode-notebook-cell:/c%3A/Users/CE%20PC/Documents/Python/Ma412/Lab_1/Ma412_Lab1_corr.ipynb#X43sZmlsZQ%3D%3D?line=17'>18</a>\u001b[0m \u001b[39mprint\u001b[39m(max_lik_estimate(X, ynew))\n",
      "\u001b[1;31mNameError\u001b[0m: name 'Xtest' is not defined"
     ]
    }
   ],
   "source": [
    "## EDIT THIS CELL\n",
    "# define a test set (we also need to augment the test inputs with ones)\n",
    "Xtest_aug = np.hstack([np.ones((Xtest.shape[0],1)), Xtest]) # 100 x (D + 1) vector of test inputs\n",
    "\n",
    "# predict the function values at the test points using the maximum likelihood estimator\n",
    "    # ============================================================\n",
    "    # Your code here ...\n",
    "    # ============================================================\n",
    "\n",
    "# plot\n",
    "    # ============================================================\n",
    "    # Your code here ...\n",
    "    # ============================================================\n",
    "    \n",
    "    \n",
    "    \n",
    "    \n",
    "print(max_lik_estimate(X, ynew))\n",
    "theta_aug = max_lik_estimate_aug(X_aug, ynew)\n",
    "    # ============================================================\n",
    "\n",
    "\n",
    "\n",
    "\n",
    "# predict the function values at the test points using the maximum likelihood estimator\n",
    "    # ============================================================\n",
    "Ytest = predict_with_estimate(Xtest_aug, theta_aug) \n",
    "\n",
    "    # ============================================================\n",
    "\n",
    "# plot the prediction\n",
    "    # ============================================================\n",
    "\n",
    "    # ============================================================\n",
    "\n",
    "# plot the prediction\n",
    "    # ============================================================\n",
    "plt.figure()\n",
    "plt.plot(X, ynew, '+', markersize=10)\n",
    "plt.xlabel(\"$x$\")\n",
    "plt.ylabel(\"$ynew$\")\n",
    "plt.plot(Xtest_aug, Ytest)\n",
    "plt.show()"
   ]
  },
  {
   "attachments": {},
   "cell_type": "markdown",
   "id": "95cd714e",
   "metadata": {},
   "source": [
    "It seems this has solved our problem! \n",
    "#### Questions:\n",
    "1. Play around with the first parameter of $\\boldsymbol\\theta_{\\text{aug}}$ and see how the fit of the function changes.\n",
    "2. Play around with the second parameter of $\\boldsymbol\\theta_{\\text{aug}}$ and see how the fit of the function changes."
   ]
  },
  {
   "cell_type": "raw",
   "id": "f8e08a6d",
   "metadata": {},
   "source": [
    "## EDIT THIS CELL\n",
    "1. on voit que la fonction baisse et monte\n",
    "2. on voit la pente change"
   ]
  },
  {
   "attachments": {},
   "cell_type": "markdown",
   "id": "abe11869",
   "metadata": {},
   "source": [
    "## 2. Linear regression"
   ]
  },
  {
   "attachments": {},
   "cell_type": "markdown",
   "id": "f225979c",
   "metadata": {},
   "source": [
    "First we will import the packages that we will need throughout the exercise."
   ]
  },
  {
   "cell_type": "code",
   "execution_count": null,
   "id": "7b0f64af",
   "metadata": {},
   "outputs": [],
   "source": [
    "# Tell Jupyter to display plots in this notebook.\n",
    "%matplotlib inline\n",
    "\n",
    "# Import the numpy package with the alias np.\n",
    "import numpy as np           \n",
    "import pandas as pd\n",
    "\n",
    "# Import the pyplot package from matplotlib with the alias plt.\n",
    "import matplotlib.pyplot as plt  \n",
    "import matplotlib.cm as cm\n",
    "from matplotlib import pylab\n",
    "pylab.rcParams['figure.figsize'] = (4, 4)"
   ]
  },
  {
   "attachments": {},
   "cell_type": "markdown",
   "id": "bf0e832e",
   "metadata": {},
   "source": [
    "### <font color='black'>Linear regression with one variable</font>"
   ]
  },
  {
   "attachments": {},
   "cell_type": "markdown",
   "id": "82a4661e",
   "metadata": {},
   "source": [
    "Before starting on any task, it is often useful to understand the data by visualizing them. "
   ]
  },
  {
   "cell_type": "code",
   "execution_count": null,
   "id": "adbed391",
   "metadata": {},
   "outputs": [],
   "source": [
    "# Load the data \n",
    "data = data = pd.read_csv(\"./data/articulos_ml.csv\")"
   ]
  },
  {
   "cell_type": "code",
   "execution_count": null,
   "id": "4d6278af",
   "metadata": {},
   "outputs": [
    {
     "data": {
      "text/plain": [
       "(161, 8)"
      ]
     },
     "execution_count": 116,
     "metadata": {},
     "output_type": "execute_result"
    }
   ],
   "source": [
    "# Check the dimensions \n",
    "data.shape"
   ]
  },
  {
   "cell_type": "code",
   "execution_count": null,
   "id": "c93d8d5d",
   "metadata": {},
   "outputs": [
    {
     "data": {
      "text/html": [
       "<div>\n",
       "<style scoped>\n",
       "    .dataframe tbody tr th:only-of-type {\n",
       "        vertical-align: middle;\n",
       "    }\n",
       "\n",
       "    .dataframe tbody tr th {\n",
       "        vertical-align: top;\n",
       "    }\n",
       "\n",
       "    .dataframe thead th {\n",
       "        text-align: right;\n",
       "    }\n",
       "</style>\n",
       "<table border=\"1\" class=\"dataframe\">\n",
       "  <thead>\n",
       "    <tr style=\"text-align: right;\">\n",
       "      <th></th>\n",
       "      <th>Title</th>\n",
       "      <th>url</th>\n",
       "      <th>Word count</th>\n",
       "      <th># of Links</th>\n",
       "      <th># of comments</th>\n",
       "      <th># Images video</th>\n",
       "      <th>Elapsed days</th>\n",
       "      <th># Shares</th>\n",
       "    </tr>\n",
       "  </thead>\n",
       "  <tbody>\n",
       "    <tr>\n",
       "      <th>0</th>\n",
       "      <td>What is Machine Learning and how do we use it ...</td>\n",
       "      <td>https://blog.signals.network/what-is-machine-l...</td>\n",
       "      <td>1888</td>\n",
       "      <td>1</td>\n",
       "      <td>2.0</td>\n",
       "      <td>2</td>\n",
       "      <td>34</td>\n",
       "      <td>200000</td>\n",
       "    </tr>\n",
       "    <tr>\n",
       "      <th>1</th>\n",
       "      <td>10 Companies Using Machine Learning in Cool Ways</td>\n",
       "      <td>NaN</td>\n",
       "      <td>1742</td>\n",
       "      <td>9</td>\n",
       "      <td>NaN</td>\n",
       "      <td>9</td>\n",
       "      <td>5</td>\n",
       "      <td>25000</td>\n",
       "    </tr>\n",
       "    <tr>\n",
       "      <th>2</th>\n",
       "      <td>How Artificial Intelligence Is Revolutionizing...</td>\n",
       "      <td>NaN</td>\n",
       "      <td>962</td>\n",
       "      <td>6</td>\n",
       "      <td>0.0</td>\n",
       "      <td>1</td>\n",
       "      <td>10</td>\n",
       "      <td>42000</td>\n",
       "    </tr>\n",
       "    <tr>\n",
       "      <th>3</th>\n",
       "      <td>Dbrain and the Blockchain of Artificial Intell...</td>\n",
       "      <td>NaN</td>\n",
       "      <td>1221</td>\n",
       "      <td>3</td>\n",
       "      <td>NaN</td>\n",
       "      <td>2</td>\n",
       "      <td>68</td>\n",
       "      <td>200000</td>\n",
       "    </tr>\n",
       "    <tr>\n",
       "      <th>4</th>\n",
       "      <td>Nasa finds entire solar system filled with eig...</td>\n",
       "      <td>NaN</td>\n",
       "      <td>2039</td>\n",
       "      <td>1</td>\n",
       "      <td>104.0</td>\n",
       "      <td>4</td>\n",
       "      <td>131</td>\n",
       "      <td>200000</td>\n",
       "    </tr>\n",
       "  </tbody>\n",
       "</table>\n",
       "</div>"
      ],
      "text/plain": [
       "                                               Title  \\\n",
       "0  What is Machine Learning and how do we use it ...   \n",
       "1   10 Companies Using Machine Learning in Cool Ways   \n",
       "2  How Artificial Intelligence Is Revolutionizing...   \n",
       "3  Dbrain and the Blockchain of Artificial Intell...   \n",
       "4  Nasa finds entire solar system filled with eig...   \n",
       "\n",
       "                                                 url  Word count  # of Links  \\\n",
       "0  https://blog.signals.network/what-is-machine-l...        1888           1   \n",
       "1                                                NaN        1742           9   \n",
       "2                                                NaN         962           6   \n",
       "3                                                NaN        1221           3   \n",
       "4                                                NaN        2039           1   \n",
       "\n",
       "   # of comments  # Images video  Elapsed days  # Shares  \n",
       "0            2.0               2            34    200000  \n",
       "1            NaN               9             5     25000  \n",
       "2            0.0               1            10     42000  \n",
       "3            NaN               2            68    200000  \n",
       "4          104.0               4           131    200000  "
      ]
     },
     "execution_count": 117,
     "metadata": {},
     "output_type": "execute_result"
    }
   ],
   "source": [
    "# Let's visualize the first rows\n",
    "data.head()"
   ]
  },
  {
   "attachments": {},
   "cell_type": "markdown",
   "id": "5a665fff",
   "metadata": {},
   "source": [
    "Remark that some entries (as for instance in the comments column) are empty.\n",
    "\n",
    "In our case, the column Shares will correspond to the target value, y."
   ]
  },
  {
   "cell_type": "code",
   "execution_count": null,
   "id": "20ca40f5",
   "metadata": {},
   "outputs": [
    {
     "data": {
      "text/html": [
       "<div>\n",
       "<style scoped>\n",
       "    .dataframe tbody tr th:only-of-type {\n",
       "        vertical-align: middle;\n",
       "    }\n",
       "\n",
       "    .dataframe tbody tr th {\n",
       "        vertical-align: top;\n",
       "    }\n",
       "\n",
       "    .dataframe thead th {\n",
       "        text-align: right;\n",
       "    }\n",
       "</style>\n",
       "<table border=\"1\" class=\"dataframe\">\n",
       "  <thead>\n",
       "    <tr style=\"text-align: right;\">\n",
       "      <th></th>\n",
       "      <th>Word count</th>\n",
       "      <th># of Links</th>\n",
       "      <th># of comments</th>\n",
       "      <th># Images video</th>\n",
       "      <th>Elapsed days</th>\n",
       "      <th># Shares</th>\n",
       "    </tr>\n",
       "  </thead>\n",
       "  <tbody>\n",
       "    <tr>\n",
       "      <th>count</th>\n",
       "      <td>161.000000</td>\n",
       "      <td>161.000000</td>\n",
       "      <td>129.000000</td>\n",
       "      <td>161.000000</td>\n",
       "      <td>161.000000</td>\n",
       "      <td>161.000000</td>\n",
       "    </tr>\n",
       "    <tr>\n",
       "      <th>mean</th>\n",
       "      <td>1808.260870</td>\n",
       "      <td>9.739130</td>\n",
       "      <td>8.782946</td>\n",
       "      <td>3.670807</td>\n",
       "      <td>98.124224</td>\n",
       "      <td>27948.347826</td>\n",
       "    </tr>\n",
       "    <tr>\n",
       "      <th>std</th>\n",
       "      <td>1141.919385</td>\n",
       "      <td>47.271625</td>\n",
       "      <td>13.142822</td>\n",
       "      <td>3.418290</td>\n",
       "      <td>114.337535</td>\n",
       "      <td>43408.006839</td>\n",
       "    </tr>\n",
       "    <tr>\n",
       "      <th>min</th>\n",
       "      <td>250.000000</td>\n",
       "      <td>0.000000</td>\n",
       "      <td>0.000000</td>\n",
       "      <td>1.000000</td>\n",
       "      <td>1.000000</td>\n",
       "      <td>0.000000</td>\n",
       "    </tr>\n",
       "    <tr>\n",
       "      <th>25%</th>\n",
       "      <td>990.000000</td>\n",
       "      <td>3.000000</td>\n",
       "      <td>2.000000</td>\n",
       "      <td>1.000000</td>\n",
       "      <td>31.000000</td>\n",
       "      <td>2800.000000</td>\n",
       "    </tr>\n",
       "    <tr>\n",
       "      <th>50%</th>\n",
       "      <td>1674.000000</td>\n",
       "      <td>5.000000</td>\n",
       "      <td>6.000000</td>\n",
       "      <td>3.000000</td>\n",
       "      <td>62.000000</td>\n",
       "      <td>16458.000000</td>\n",
       "    </tr>\n",
       "    <tr>\n",
       "      <th>75%</th>\n",
       "      <td>2369.000000</td>\n",
       "      <td>7.000000</td>\n",
       "      <td>12.000000</td>\n",
       "      <td>5.000000</td>\n",
       "      <td>124.000000</td>\n",
       "      <td>35691.000000</td>\n",
       "    </tr>\n",
       "    <tr>\n",
       "      <th>max</th>\n",
       "      <td>8401.000000</td>\n",
       "      <td>600.000000</td>\n",
       "      <td>104.000000</td>\n",
       "      <td>22.000000</td>\n",
       "      <td>1002.000000</td>\n",
       "      <td>350000.000000</td>\n",
       "    </tr>\n",
       "  </tbody>\n",
       "</table>\n",
       "</div>"
      ],
      "text/plain": [
       "        Word count  # of Links  # of comments  # Images video  Elapsed days  \\\n",
       "count   161.000000  161.000000     129.000000      161.000000    161.000000   \n",
       "mean   1808.260870    9.739130       8.782946        3.670807     98.124224   \n",
       "std    1141.919385   47.271625      13.142822        3.418290    114.337535   \n",
       "min     250.000000    0.000000       0.000000        1.000000      1.000000   \n",
       "25%     990.000000    3.000000       2.000000        1.000000     31.000000   \n",
       "50%    1674.000000    5.000000       6.000000        3.000000     62.000000   \n",
       "75%    2369.000000    7.000000      12.000000        5.000000    124.000000   \n",
       "max    8401.000000  600.000000     104.000000       22.000000   1002.000000   \n",
       "\n",
       "            # Shares  \n",
       "count     161.000000  \n",
       "mean    27948.347826  \n",
       "std     43408.006839  \n",
       "min         0.000000  \n",
       "25%      2800.000000  \n",
       "50%     16458.000000  \n",
       "75%     35691.000000  \n",
       "max    350000.000000  "
      ]
     },
     "execution_count": 118,
     "metadata": {},
     "output_type": "execute_result"
    }
   ],
   "source": [
    "# Display some statistics from the dataset \n",
    "data.describe()"
   ]
  },
  {
   "attachments": {},
   "cell_type": "markdown",
   "id": "17e8862c",
   "metadata": {},
   "source": [
    "In this table, we can read that the the mean number of words is 1808.\n",
    "There is an article with a minimum of 250 words and a maximum of 8401.\n",
    "\n",
    "Concerning the outputs, the minimum is 0 times shared and the maximum is shared 350000."
   ]
  },
  {
   "cell_type": "code",
   "execution_count": null,
   "id": "9838c7ec",
   "metadata": {},
   "outputs": [
    {
     "data": {
      "image/png": "[encoded data removed]",
      "text/plain": [
       "<Figure size 400x400 with 1 Axes>"
      ]
     },
     "metadata": {},
     "output_type": "display_data"
    }
   ],
   "source": [
    "f1 = data['Word count'].values\n",
    "f2 = data['# Shares'].values\n",
    "    \n",
    "plt.scatter(f1, f2, c='b')\n",
    "plt.show()"
   ]
  },
  {
   "cell_type": "code",
   "execution_count": null,
   "id": "cae7ef39",
   "metadata": {},
   "outputs": [
    {
     "data": {
      "image/png": "[encoded data removed]",
      "text/plain": [
       "<Figure size 400x400 with 1 Axes>"
      ]
     },
     "metadata": {},
     "output_type": "display_data"
    }
   ],
   "source": [
    "# We apply a cut to the oringal dataset\n",
    "filtered_data = data[(data['Word count'] <= 3500) & (data['# Shares'] <= 80000)]\n",
    "\n",
    "f1 = filtered_data['Word count'].values\n",
    "f2 = filtered_data['# Shares'].values\n",
    "    \n",
    "plt.scatter(f1, f2, c='b')\n",
    "plt.show()"
   ]
  },
  {
   "attachments": {},
   "cell_type": "markdown",
   "id": "ec68912e",
   "metadata": {},
   "source": [
    "### <font color='black'> Gradient Descent</font>"
   ]
  },
  {
   "attachments": {},
   "cell_type": "markdown",
   "id": "7d447c81",
   "metadata": {},
   "source": [
    "In this part, you will fit the linear regression parameters  $\\theta$  to the dataset using gradient descent.\n",
    "\n",
    "Recall that the parameters of your model are the  $\\theta_𝑗$  values. These are the values you will adjust to minimize cost  $𝐽(\\theta)$ .\n",
    "\n",
    "In the following lines, we add another dimension to our data to account for the  $\\theta_0$  intercept term. We also initialize the parameters to $0$ and the learning rate  $\\alpha$  to $0.01$."
   ]
  },
  {
   "cell_type": "code",
   "execution_count": null,
   "id": "7544868e",
   "metadata": {},
   "outputs": [],
   "source": [
    "# Cost and Gradient descent\n",
    "# Backup the original X right after you load it\n",
    "X_original = X.copy()\n",
    "\n",
    "# Reset X to its original form\n",
    "X = X_original.copy()\n",
    "\n",
    "# Add intercept term to X\n",
    "m, n = X.shape\n",
    "X = np.concatenate([np.ones((m, 1)), X], axis=1)\n",
    "\n",
    "# Initialize theta AFTER modifying X to ensure consistent dimensions\n",
    "theta = np.zeros((n+1, 1))\n"
   ]
  },
  {
   "attachments": {},
   "cell_type": "markdown",
   "id": "c84b8ce4",
   "metadata": {},
   "source": [
    "As you perform gradient descent to learn minimize the cost function $J(\\theta)$, it is helpful to monitor the convergence by computing the cost. \n",
    "\n",
    "Firstly you will implement a function to calculate $J(\\theta)$ so you can check the convergence of your gradient descent.\n",
    "\n",
    "Complete the function below that computes $J(\\theta)$. \n",
    "Once you have completed the function, the next step will run computeCost once using $\\theta$ initialized to zeros, and you will see the cost printed to the screen."
   ]
  },
  {
   "cell_type": "code",
   "execution_count": null,
   "id": "b2fee8ca",
   "metadata": {},
   "outputs": [],
   "source": [
    "# EDIT THIS CELL\n",
    "def computeCost(X, y, theta):\n",
    "    m = y.shape[0]\n",
    "    h = X.dot(theta)\n",
    "    squared_error = np.square(h - y)\n",
    "    J = (1 / (2 * m)) * np.sum(squared_error)\n",
    "    return J\n",
    "\n"
   ]
  },
  {
   "cell_type": "code",
   "execution_count": null,
   "id": "0c9b130c",
   "metadata": {
    "scrolled": false
   },
   "outputs": [
    {
     "name": "stdout",
     "output_type": "stream",
     "text": [
      "With theta = [0 ; 0] Cost computed =  0.5187400000000001\n",
      "Expected cost value (approx) 408398897.763\n"
     ]
    }
   ],
   "source": [
    "J = computeCost(X, y, theta)\n",
    "print('With theta = [0 ; 0] Cost computed = ', J)\n",
    "print('Expected cost value (approx) 408398897.763')"
   ]
  },
  {
   "attachments": {},
   "cell_type": "markdown",
   "id": "a404636e",
   "metadata": {},
   "source": [
    "Next, you will implement gradient descent. The loop structure has already been written. You only need to supply the updates to $\\theta$ within each iteration.\n",
    "\n",
    "A good way to verify that gradient descent is working is to look at the value of $J(\\theta)$ and check that it is decreasing with each step. The code calls computeCost on every iteration and prints the cost. If you have implemented gradient descent and computeCost correctly, your value of $J(\\theta)$ should never increase, and should converge to a  value by the end of the algorithm.\n",
    "\n",
    "After you have finished, you will use the final parameters to plot the linear fit. "
   ]
  },
  {
   "cell_type": "code",
   "execution_count": null,
   "id": "d7a41109",
   "metadata": {},
   "outputs": [],
   "source": [
    "# EDIT THIS CELL\n",
    "def gradientDescent(X, y, theta, alpha, num_iters):\n",
    "    m = y.shape[0]\n",
    "    theta = theta.copy()\n",
    "    J_history = []\n",
    "\n",
    "    for i in range(num_iters):\n",
    "        h = X.dot(theta)\n",
    "        gradient = (1 / m) * X.T.dot(h - y)\n",
    "        theta -= alpha * gradient\n",
    "        J = computeCost(X, y, theta)\n",
    "        J_history.append(J)\n",
    "\n",
    "    return theta, J_history"
   ]
  },
  {
   "cell_type": "code",
   "execution_count": null,
   "id": "0e805e0e",
   "metadata": {},
   "outputs": [
    {
     "name": "stdout",
     "output_type": "stream",
     "text": [
      "Theta found by gradient descent:\n",
      "[[1.15997682e-06]\n",
      " [1.15997682e-06]\n",
      " [1.15997682e-06]\n",
      " [1.15997682e-06]\n",
      " [1.99596012e-05]]\n",
      "Expected theta values (approx):\n",
      " 0.0278\n",
      " 11.162\n"
     ]
    }
   ],
   "source": [
    "\n",
    "\n",
    "# Some gradient descent settings\n",
    "iterations = 1000\n",
    "alpha = 1e-8\n",
    "theta, J_history = gradientDescent(X, y, theta, alpha, iterations)\n",
    "\n",
    "print('Theta found by gradient descent:')\n",
    "print(theta)\n",
    "print('Expected theta values (approx):')\n",
    "print(' 0.0278\\n 11.162')\n"
   ]
  },
  {
   "attachments": {},
   "cell_type": "markdown",
   "id": "e64d0748",
   "metadata": {},
   "source": [
    "### <font color='black'> Linear regression with multiple variables</font>"
   ]
  },
  {
   "attachments": {},
   "cell_type": "markdown",
   "id": "46031b1f",
   "metadata": {},
   "source": [
    "In this part, you will implement linear regression with multiple variables to predict the number of shares of a machine learning article. We will create a new variable that is the sum of the links, comments and images."
   ]
  },
  {
   "cell_type": "code",
   "execution_count": null,
   "id": "4e64d494",
   "metadata": {},
   "outputs": [],
   "source": [
    "# ======================= Load the data =======================\n",
    "\n",
    "suma = (filtered_data[\"# of Links\"] + filtered_data['# of comments'].fillna(0) + filtered_data['# Images video'])\n",
    "\n",
    "dataX2 =  pd.DataFrame()\n",
    "dataX2[\"Word count\"] = filtered_data[\"Word count\"]\n",
    "dataX2[\"suma\"] = suma\n",
    "X = np.array(dataX2)\n",
    "y = filtered_data['# Shares'].values\n",
    "\n",
    "m = y.shape[0] # number of training examples"
   ]
  },
  {
   "attachments": {},
   "cell_type": "markdown",
   "id": "c05278c2",
   "metadata": {},
   "source": [
    "### Feature Scaling\n",
    "\n",
    "By looking at the values, note that the word count are about 1000 times the sum of the other variables. When features differ by orders of magnitude, performing feature scaling can make gradient descent converge much more quickly.\n",
    "\n",
    "You need to fill the cell below to perform feature scaling.\n",
    "\n",
    "Subtract the mean value of each feature from the dataset.\n",
    "After subtracting the mean, additionally scale (divide) the feature values by their respective “standard deviation\".\n",
    "When normalizing the features, it is important to store the values used for normalization - the mean value and the standard deviation.\n",
    "\n",
    "Given a new input x, we must first normalize x using the mean and standard deviation that we had previously computed from the training set."
   ]
  },
  {
   "cell_type": "code",
   "execution_count": null,
   "id": "3139a703",
   "metadata": {},
   "outputs": [],
   "source": [
    "# EDIT THIS CELL\n",
    "def featureNormalize(X):\n",
    "    #FEATURENORMALIZE Normalizes the features in X \n",
    "    #   FEATURENORMALIZE(X) returns a normalized version of X where\n",
    "    #   the mean value of each feature is 0 and the standard deviation\n",
    "    #   is 1. This is often a good preprocessing step to do when\n",
    "    #   working with learning algorithms.\n",
    "\n",
    "    # You need to set these values correctly\n",
    "    X_norm = X.copy()\n",
    "    mu = np.mean(X, axis=0)\n",
    "    sigma = np.std(X, axis=0)\n",
    "    \n",
    "    X_norm = (X - mu) / sigma\n",
    "\n",
    "    return X_norm, mu, sigma\n",
    "\n",
    "    # ===========================================================\n",
    "    # Your code here ...\n",
    "    # ===========================================================\n",
    "\n",
    "    return X_norm, mu, sigma"
   ]
  },
  {
   "cell_type": "code",
   "execution_count": null,
   "id": "4a44df99",
   "metadata": {},
   "outputs": [],
   "source": [
    "X_norm, mu, sigma = featureNormalize(X);\n",
    "\n",
    "\n",
    "#Add intercept term to X\n",
    "X = np.concatenate([np.ones((m, 1)), X_norm], axis=1)"
   ]
  },
  {
   "attachments": {},
   "cell_type": "markdown",
   "id": "24bdfe70",
   "metadata": {},
   "source": [
    "### <font color='black'> Gradient Descent</font>\n",
    "\n",
    "\n",
    "Previously, you implemented gradient descent on a univariate regression problem. The only difference now is that there is one more feature in the matrix X. \n",
    "\n",
    "The hypothesis function and the batch gradient descent update rule remain unchanged.\n",
    "If your code in the previous part (single variable) already supports multiple variables, you can use it here too."
   ]
  },
  {
   "cell_type": "code",
   "execution_count": null,
   "id": "e8e69c93",
   "metadata": {},
   "outputs": [],
   "source": [
    "#EDIT THIS CELL\n",
    "def computeCostMulti(X, y, theta):\n",
    "\n",
    "    # Initialize some useful values\n",
    "   # number of training examples\n",
    "    \n",
    "    # You need to return the following variable correctly\n",
    "    \n",
    "    \n",
    "    # ===============================================================\n",
    "    m = y.shape[0]\n",
    "    h = X.dot(theta)\n",
    "    J = (1/(2*m)) * np.sum(np.square(h - y)) \n",
    "    # ===============================================================\n",
    "    return J"
   ]
  },
  {
   "cell_type": "code",
   "execution_count": null,
   "id": "6dbe28cf",
   "metadata": {},
   "outputs": [],
   "source": [
    "#EDIT THIS CELL\n",
    "def gradientDescentMulti(X, y, theta, alpha, num_iters):\n",
    "    m = y.shape[0]\n",
    "    theta = theta.copy()\n",
    "    J_history = []\n",
    "    \n",
    "    for i in range(num_iters):\n",
    "        h = X.dot(theta)\n",
    "        gradient = (1/m) * X.T.dot(h - y)\n",
    "        theta -= alpha * gradient\n",
    "        J_history.append(computeCostMulti(X, y, theta))\n",
    "\n",
    "    return theta, J_history\n"
   ]
  },
  {
   "cell_type": "code",
   "execution_count": null,
   "id": "4157b628",
   "metadata": {},
   "outputs": [],
   "source": [
    "# Gradient Descent \n",
    "\n",
    "# Choose some alpha value\n",
    "alpha = 0.1;\n",
    "num_iters = 50;\n",
    "\n",
    "# Init Theta and Run Gradient Descent \n",
    "theta = np.zeros(3);\n",
    "\n",
    "theta, J_history = gradientDescentMulti(X, y, theta, alpha, num_iters);"
   ]
  },
  {
   "attachments": {},
   "cell_type": "markdown",
   "id": "dfda3fa5",
   "metadata": {},
   "source": [
    "Now you will to try out different learning rates for the dataset and find a learning rate that converges quickly. You can change the learning rate by modifying the variable above and changing the part of the code that sets the learning rate.\n",
    "\n",
    "The cell bellow plots the values of  $𝐽(\\theta)$  against the number of the iterations. If you picked a good value for the learning rate, the cost will decrease in every iteration. If the value of $J(\\theta)$ increases, adjust your learning rate and try again. You may also want to adjust the number of iterations you are running if that will help you see the overall trend in the curve."
   ]
  },
  {
   "cell_type": "code",
   "execution_count": null,
   "id": "bdcb8540",
   "metadata": {},
   "outputs": [
    {
     "data": {
      "image/png": "[encoded data removed]",
      "text/plain": [
       "<Figure size 400x400 with 1 Axes>"
      ]
     },
     "metadata": {},
     "output_type": "display_data"
    }
   ],
   "source": [
    "plt.figure()\n",
    "plt.plot(np.arange(0,num_iters), J_history, '-b');\n",
    "plt.xlabel('Number of iterations');\n",
    "plt.ylabel('Cost J');"
   ]
  },
  {
   "cell_type": "code",
   "execution_count": null,
   "id": "2a0554b6",
   "metadata": {},
   "outputs": [
    {
     "name": "stdout",
     "output_type": "stream",
     "text": [
      "Theta computed from gradient descent: \n",
      "\n",
      "[20439.76099402  5367.70572687 -4557.15174504]\n"
     ]
    }
   ],
   "source": [
    "# Display gradient descent's result\n",
    "print('Theta computed from gradient descent: \\n');\n",
    "print(theta);"
   ]
  },
  {
   "cell_type": "code",
   "execution_count": null,
   "id": "c771a43d",
   "metadata": {},
   "outputs": [
    {
     "name": "stdout",
     "output_type": "stream",
     "text": [
      "Predicted number of shares: 16884.1068561108\n",
      "True number of shares: 27000\n"
     ]
    },
    {
     "data": {
      "image/png": "[encoded data removed]",
      "text/plain": [
       "<Figure size 400x400 with 1 Axes>"
      ]
     },
     "metadata": {},
     "output_type": "display_data"
    }
   ],
   "source": [
    "x_sample = np.array([515, 7])\n",
    "\n",
    "# Normalize\n",
    "x_sample_norm = (x_sample - mu) / sigma\n",
    "\n",
    "# Add the intercept term\n",
    "x_sample_norm = np.concatenate([[1], x_sample_norm])\n",
    "\n",
    "shares_predicted = x_sample_norm.dot(theta)\n",
    "print('Predicted number of shares:', shares_predicted)\n",
    "print('True number of shares: 27000')\n",
    "import matplotlib.pyplot as plt\n",
    "\n",
    "plt.figure()\n",
    "plt.plot(np.arange(num_iters), J_history, '-b')\n",
    "plt.xlabel('Number of iterations')\n",
    "plt.ylabel('Cost J')\n",
    "plt.show()\n"
   ]
  },
  {
   "cell_type": "code",
   "execution_count": null,
   "id": "bd5015b4",
   "metadata": {},
   "outputs": [],
   "source": []
  }
 ],
 "metadata": {
  "kernelspec": {
   "display_name": "Python 3 (ipykernel)",
   "language": "python",
   "name": "python3"
  },
  "language_info": {
   "codemirror_mode": {
    "name": "ipython",
    "version": 3
   },
   "file_extension": ".py",
   "mimetype": "text/x-python",
   "name": "python",
   "nbconvert_exporter": "python",
   "pygments_lexer": "ipython3",
   "version": "3.10.0"
  }
 },
 "nbformat": 4,
 "nbformat_minor": 5
}
