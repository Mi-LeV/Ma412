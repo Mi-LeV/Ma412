{
 "cells": [
  {
   "cell_type": "markdown",
   "id": "72582341",
   "metadata": {},
   "source": [
    "# 2023/2024 - Ma412 \n",
    "\n",
    "# Lab 7: Principal Components Analysis "
   ]
  },
  {
   "cell_type": "markdown",
   "id": "0a4b0cbe",
   "metadata": {},
   "source": [
    "The objective of this notebook is to use principal component analysis (PCA) to perform dimensionality reduction."
   ]
  },
  {
   "cell_type": "markdown",
   "id": "fe7c7ddd",
   "metadata": {},
   "source": [
    "## <font color='black'>Set-Up</font>\n",
    "First we will import the packages that we will need throughout the notebook."
   ]
  },
  {
   "cell_type": "code",
   "execution_count": 12,
   "id": "6402ce91",
   "metadata": {},
   "outputs": [],
   "source": [
    "import os\n",
    "import numpy as np\n",
    "import scipy.io as sio\n",
    "import matplotlib.pyplot as plt\n",
    "from scipy.io import loadmat\n",
    "#from draw_line import draw_line\n",
    "import utils"
   ]
  },
  {
   "cell_type": "markdown",
   "id": "5bea7435",
   "metadata": {},
   "source": [
    "Firstly, we will implement the algorithm for the following 2D dataset."
   ]
  },
  {
   "cell_type": "code",
   "execution_count": null,
   "id": "28cf0718",
   "metadata": {},
   "outputs": [],
   "source": [
    "data=loadmat(os.path.join('data', 'ex7data1.mat'))\n",
    "X = data['X']\n",
    "plt.figure()\n",
    "plt.scatter(X[:, 0], X[:, 1], facecolors='none', edgecolors='b')\n",
    "plt.xlim(0.5, 6.5)\n",
    "plt.ylim(2, 8)\n",
    "plt.gca().set_aspect('equal', adjustable='box')\n",
    "plt.show()"
   ]
  },
  {
   "cell_type": "markdown",
   "id": "27144e2a",
   "metadata": {},
   "source": [
    "## Principal Component Analysis"
   ]
  },
  {
   "cell_type": "markdown",
   "id": "5c76de04",
   "metadata": {},
   "source": [
    "Assume that we are performing PCA on\n",
    "some dataset $\\boldsymbol X$ for $M$ principal components. \n",
    "We then need to perform the following steps, which we break into parts:\n",
    "\n",
    "1. Data normalization (`normalize`).\n",
    "2. Find eigenvalues and corresponding eigenvectors for the covariance matrix $S$.\n",
    "   Sort by the largest eigenvalues and the corresponding eigenvectors (`eig`).\n",
    "\n",
    "After these steps, we can then compute the projection and reconstruction of the data onto the spaced spanned by the top $n$ eigenvectors.\n",
    "\n",
    "In the folowwing cell, compltete the `feature_normalize()` function that normalizes the features in the given dataset."
   ]
  },
  {
   "cell_type": "code",
   "execution_count": null,
   "id": "16427706",
   "metadata": {},
   "outputs": [],
   "source": [
    "#EDIT THIS CELL\n",
    "def feature_normalize(X):\n",
    "    \"\"\"\n",
    "    Normalizes the features in X.\n",
    "    \n",
    "    Parameters\n",
    "    ----------\n",
    "    X : ndarray, shape (n_samples, n_features)\n",
    "        Samples, where n_samples is the number of samples and n_features is the number of features.\n",
    "\n",
    "    Returns\n",
    "    -------\n",
    "    X_norm : ndarray, shape (n_samples, n_features)\n",
    "        Normalized training vectors.\n",
    "    mu : ndarray, shape (n_feature, )\n",
    "        Mean value of each feature.\n",
    "    sigma : ndarray, shape (n_feature, )\n",
    "        Standard deviation of each feature.\n",
    "    \"\"\"\n",
    "    # ============================================================\n",
    "    # Your code here ...\n",
    "    # ============================================================\n",
    "    \n",
    "    return X_norm, mu, sigma"
   ]
  },
  {
   "cell_type": "markdown",
   "id": "77424354",
   "metadata": {},
   "source": [
    "Compute now the eigenvalues and corresponding eigenvectors for the covariance matrix."
   ]
  },
  {
   "cell_type": "code",
   "execution_count": null,
   "id": "fd217ca1",
   "metadata": {},
   "outputs": [],
   "source": [
    "#EDIT THIS CELL\n",
    "def pca(X):\n",
    "    \"\"\"\n",
    "    Run principal component analysis on the dataset X.\n",
    "\n",
    "    Parameters\n",
    "    ----------\n",
    "    X : ndarray, shape (n_samples, n_features)\n",
    "        Samples, where n_samples is the number of samples and n_features is the number of features.\n",
    "\n",
    "    Returns\n",
    "    -------\n",
    "    U : ndarray, shape (n_features, n_features)\n",
    "        Unitary matrices.\n",
    "    S : ndarray, shape (n_features,)\n",
    "        The singular values for every matrix.\n",
    "    V : ndarray, shape (n_features, n_features)\n",
    "        Unitary matrices.\n",
    "    \"\"\"\n",
    "    # ============================================================\n",
    "    # Your code here ...\n",
    "    # ============================================================\n",
    "    return U, S, V"
   ]
  },
  {
   "cell_type": "markdown",
   "id": "3c6a44e8",
   "metadata": {},
   "source": [
    "Run now PCA and test it on the loaded dataset:"
   ]
  },
  {
   "cell_type": "code",
   "execution_count": null,
   "id": "63f55d4b",
   "metadata": {},
   "outputs": [],
   "source": [
    "#EDIT THIS CELL\n",
    "# ============================================================\n",
    "# Your code here ...\n",
    "# ============================================================"
   ]
  },
  {
   "cell_type": "code",
   "execution_count": 11,
   "id": "51c2272c",
   "metadata": {},
   "outputs": [],
   "source": [
    "plt.figure()\n",
    "utils.draw_line(mu, mu + 1.5 * S[0] * U[:,0].T)\n",
    "utils.draw_line(mu, mu + 1.5 * S[1] * U[:,1].T)\n",
    "plt.show()"
   ]
  },
  {
   "cell_type": "code",
   "execution_count": null,
   "id": "241047f1",
   "metadata": {},
   "outputs": [],
   "source": [
    "print('Top eigenvector:')\n",
    "print ('U = ', U[:, 0])\n",
    "print ('(you should expect to see -0.70710678 -0.70710678)')"
   ]
  },
  {
   "cell_type": "markdown",
   "id": "204d7428",
   "metadata": {},
   "source": [
    "Comment the obtained results. "
   ]
  },
  {
   "cell_type": "code",
   "execution_count": null,
   "id": "fe5f7f8e",
   "metadata": {},
   "outputs": [],
   "source": [
    "#EDIT THIS CELL\n",
    "# ============================================================\n",
    "# Your answer here ...\n",
    "# ============================================================"
   ]
  },
  {
   "cell_type": "markdown",
   "id": "c9519a5f",
   "metadata": {},
   "source": [
    "## Dimension Reduction"
   ]
  },
  {
   "cell_type": "markdown",
   "id": "b233e107",
   "metadata": {},
   "source": [
    "In the following cell, compute the projection matrix Z:"
   ]
  },
  {
   "cell_type": "code",
   "execution_count": null,
   "id": "065d7e94",
   "metadata": {},
   "outputs": [],
   "source": [
    "def project_data(X, U, K):\n",
    "    \"\"\"\n",
    "    Computes the reduced data representation when projecting only on to the top K eigenvectors.\n",
    "\n",
    "    Parameters\n",
    "    ----------\n",
    "    X : ndarray, shape (n_samples, n_features)\n",
    "        Samples, where n_samples is the number of samples and n_features is the number of features.\n",
    "    U : ndarray, shape (n_features, n_features)\n",
    "        Unitary matrices.\n",
    "    K : int\n",
    "        Reduced dimension.\n",
    "\n",
    "    Returns\n",
    "    -------\n",
    "    Z : ndarray, shape (n_samples, K)\n",
    "        The projection of X into the reduced dimensional space spanned by the first K columns of U.\n",
    "    \"\"\"\n",
    "    # ============================================================\n",
    "    # Your code here ...\n",
    "    # ============================================================\n",
    "    return Z"
   ]
  },
  {
   "cell_type": "markdown",
   "id": "7c9e8830",
   "metadata": {},
   "source": [
    "The `recover_data()` recovers an approximation of the original data from the projected data."
   ]
  },
  {
   "cell_type": "code",
   "execution_count": null,
   "id": "3c87ee4f",
   "metadata": {},
   "outputs": [],
   "source": [
    "def recover_data(Z, U, K):\n",
    "    \"\"\"\n",
    "    Recovers an approximation of the original data when using the projected data.\n",
    "    \n",
    "    Parameters\n",
    "    ----------\n",
    "    Z : ndarray, shape (n_samples, K)\n",
    "        The projected data, where n_samples is the number of samples and K is the number of reduced dimensions.\n",
    "    U : ndarray, shape (n_features, n_features)\n",
    "        Unitary matrices, where n_features is the number of features.\n",
    "    K : int\n",
    "        Reduced dimension.\n",
    "\n",
    "    Returns\n",
    "    -------\n",
    "    X_rec : ndarray, shape (n_samples, n_features)\n",
    "        The recovered samples.\n",
    "    \"\"\"\n",
    "    X_rec = Z.dot(U[:, 0:K].T)\n",
    "    return X_rec"
   ]
  },
  {
   "cell_type": "markdown",
   "id": "248955b0",
   "metadata": {},
   "source": [
    "We can plot the projection by computing the projected and recovered data:"
   ]
  },
  {
   "cell_type": "code",
   "execution_count": null,
   "id": "2efcab3b",
   "metadata": {},
   "outputs": [],
   "source": [
    "# Plot the normalized dataset (returned from pca)\n",
    "plt.figure()\n",
    "plt.scatter(X_norm[:, 0], X_norm[:, 1], facecolors='none', edgecolors='b')\n",
    "plt.xlim(-4, 3)\n",
    "plt.ylim(-4, 3)\n",
    "plt.gca().set_aspect('equal', adjustable='box')\n",
    "\n",
    "# Project the data onto K = 1 dimension\n",
    "K = 1\n",
    "Z = project_data(X_norm, U, K)\n",
    "print( 'Projection of the first example: ', Z[0, ])\n",
    "print ('(this value should be about 1.48127391)')\n",
    "\n",
    "X_rec = recover_data(Z, U, K)\n",
    "print ('Approximation of the first example:', X_rec[0, ])\n",
    "print ('(this value should be about  -1.04741883 -1.04741883)')\n",
    "\n",
    "# Draw lines connecting the projected points to the original points\n",
    "plt.scatter(X_rec[:, 0], X_rec[:, 1], facecolors='none', edgecolors='r')\n",
    "for i in range(X_norm.shape[0]):\n",
    "    draw_line(X_norm[i,:], X_rec[i,:], dash=True)\n",
    "axes = plt.gca()\n",
    "axes.set_xlim([-4, 3])\n",
    "axes.set_ylim([-4, 3])\n",
    "axes.set_aspect('equal', adjustable='box')\n",
    "plt.show()"
   ]
  },
  {
   "cell_type": "markdown",
   "id": "a0f48616",
   "metadata": {},
   "source": [
    "What do you conclude?"
   ]
  },
  {
   "cell_type": "code",
   "execution_count": null,
   "id": "4eedb995",
   "metadata": {},
   "outputs": [],
   "source": [
    "#EDIT THIS CELL\n",
    "# ============================================================\n",
    "# Your answer here ...\n",
    "# ============================================================"
   ]
  },
  {
   "cell_type": "markdown",
   "id": "ef40b034",
   "metadata": {},
   "source": [
    "## Example"
   ]
  },
  {
   "cell_type": "markdown",
   "id": "f853105e",
   "metadata": {},
   "source": [
    "In this part of the notebook, you will use a PCA on the dataset `ex7faces.mat` that contains a collection of 32 × 32 grayscale face images. Firstly, load and analyze your dataset. "
   ]
  },
  {
   "cell_type": "code",
   "execution_count": null,
   "id": "83f64056",
   "metadata": {},
   "outputs": [],
   "source": [
    "# Load Face dataset\n",
    "mat_data = loadmat(os.path.join('data', 'ex7faces.mat'))\n",
    "X = mat_data['X']\n",
    "plt.figure()\n",
    "fig=utils.displayData(X[0:100, :])\n",
    "plt.show()"
   ]
  },
  {
   "cell_type": "markdown",
   "id": "8a0ddb9b",
   "metadata": {},
   "source": [
    "Run now PCA on the loaded face data:"
   ]
  },
  {
   "cell_type": "code",
   "execution_count": null,
   "id": "0cb5b8f6",
   "metadata": {},
   "outputs": [],
   "source": [
    "#EDIT THIS CELL\n",
    "# ============================================================\n",
    "# Your code here ...\n",
    "# ============================================================"
   ]
  },
  {
   "cell_type": "markdown",
   "id": "24f5be3a",
   "metadata": {},
   "source": [
    "Reduce the dimension of the sample from 1024 (32 by 32) to 100:"
   ]
  },
  {
   "cell_type": "code",
   "execution_count": null,
   "id": "3ae58644",
   "metadata": {},
   "outputs": [],
   "source": [
    "#EDIT THIS CELL\n",
    "# ============================================================\n",
    "# Your code here ...\n",
    "# ============================================================"
   ]
  },
  {
   "cell_type": "markdown",
   "id": "7ec9bf22",
   "metadata": {},
   "source": [
    "Plot now the original images and the ones reconstructed from only the top 100 principal components:"
   ]
  },
  {
   "cell_type": "code",
   "execution_count": null,
   "id": "7c505daf",
   "metadata": {},
   "outputs": [],
   "source": [
    "#EDIT THIS CELL\n",
    "# ============================================================\n",
    "# Your code here ...\n",
    "# ============================================================"
   ]
  },
  {
   "cell_type": "markdown",
   "id": "6bace58c",
   "metadata": {},
   "source": [
    "Conclude."
   ]
  },
  {
   "cell_type": "code",
   "execution_count": null,
   "id": "04ccc0c3",
   "metadata": {},
   "outputs": [],
   "source": [
    "#EDIT THIS CELL\n",
    "# ============================================================\n",
    "# Your answer here ...\n",
    "# ============================================================"
   ]
  }
 ],
 "metadata": {
  "kernelspec": {
   "display_name": "Python 3 (ipykernel)",
   "language": "python",
   "name": "python3"
  },
  "language_info": {
   "codemirror_mode": {
    "name": "ipython",
    "version": 3
   },
   "file_extension": ".py",
   "mimetype": "text/x-python",
   "name": "python",
   "nbconvert_exporter": "python",
   "pygments_lexer": "ipython3",
   "version": "3.11.4"
  }
 },
 "nbformat": 4,
 "nbformat_minor": 5
}
